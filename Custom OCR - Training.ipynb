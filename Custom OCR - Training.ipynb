{
 "cells": [
  {
   "cell_type": "markdown",
   "source": [
    "# Custom OCR - training the NN"
   ],
   "metadata": {
    "collapsed": false,
    "id": "fd2e92dd38e5546"
   },
   "id": "fd2e92dd38e5546"
  },
  {
   "cell_type": "markdown",
   "source": [
    "## Import libraries"
   ],
   "metadata": {
    "collapsed": false,
    "id": "bb2c8a1c2ed2d5aa"
   },
   "id": "bb2c8a1c2ed2d5aa"
  },
  {
   "cell_type": "code",
   "outputs": [
    {
     "output_type": "execute_result",
     "data": {
      "text/plain": [
       "'2.15.0'"
      ],
      "application/vnd.google.colaboratory.intrinsic+json": {
       "type": "string"
      }
     },
     "metadata": {},
     "execution_count": 1
    }
   ],
   "source": [
    "import tensorflow\n",
    "tensorflow.__version__\n",
    "# pip install urllib3==1.26.6"
   ],
   "metadata": {
    "ExecuteTime": {
     "end_time": "2024-06-22T02:05:08.781422Z",
     "start_time": "2024-06-22T02:05:04.299475Z"
    },
    "colab": {
     "base_uri": "https://localhost:8080/",
     "height": 35
    },
    "id": "1dbe5b3f08a4b513",
    "outputId": "8f5664c2-61f6-4ae7-929c-9b2ab9dfecab"
   },
   "id": "1dbe5b3f08a4b513",
   "execution_count": 1
  },
  {
   "cell_type": "code",
   "outputs": [],
   "source": [
    "import numpy as np\n",
    "import zipfile\n",
    "import pandas as pd\n",
    "import matplotlib.pyplot as plt\n",
    "import seaborn as sns\n",
    "from sklearn.preprocessing import LabelBinarizer, LabelEncoder\n",
    "from sklearn.model_selection import train_test_split\n",
    "from sklearn.metrics import classification_report"
   ],
   "metadata": {
    "ExecuteTime": {
     "end_time": "2024-06-22T02:05:09.155048Z",
     "start_time": "2024-06-22T02:05:08.780550Z"
    },
    "id": "6f75b9fbbaa12df5"
   },
   "id": "6f75b9fbbaa12df5",
   "execution_count": 2
  },
  {
   "cell_type": "markdown",
   "source": [
    "## Loading Datasets"
   ],
   "metadata": {
    "collapsed": false,
    "id": "8e50a1936d6b344e"
   },
   "id": "8e50a1936d6b344e"
  },
  {
   "cell_type": "code",
   "outputs": [],
   "source": [
    "from tensorflow.keras.datasets import mnist"
   ],
   "metadata": {
    "ExecuteTime": {
     "end_time": "2024-06-22T02:05:09.171842Z",
     "start_time": "2024-06-22T02:05:09.158783Z"
    },
    "id": "d62e0516458dd1c3"
   },
   "id": "d62e0516458dd1c3",
   "execution_count": 3
  },
  {
   "cell_type": "code",
   "outputs": [
    {
     "output_type": "stream",
     "name": "stdout",
     "text": [
      "Downloading data from https://storage.googleapis.com/tensorflow/tf-keras-datasets/mnist.npz\n",
      "11490434/11490434 [==============================] - 0s 0us/step\n"
     ]
    }
   ],
   "source": [
    "(train_data, train_labels), (test_data, test_labels) = mnist.load_data()"
   ],
   "metadata": {
    "ExecuteTime": {
     "end_time": "2024-06-22T02:05:09.261056Z",
     "start_time": "2024-06-22T02:05:09.172100Z"
    },
    "id": "e24f655a1b9a2b37",
    "colab": {
     "base_uri": "https://localhost:8080/"
    },
    "outputId": "66172a18-b1e3-44f5-e3cc-8e7e3e4dda36"
   },
   "id": "e24f655a1b9a2b37",
   "execution_count": 4
  },
  {
   "cell_type": "code",
   "outputs": [
    {
     "output_type": "execute_result",
     "data": {
      "text/plain": [
       "((60000, 28, 28), (10000, 28, 28))"
      ]
     },
     "metadata": {},
     "execution_count": 5
    }
   ],
   "source": [
    "train_data.shape, test_data.shape"
   ],
   "metadata": {
    "ExecuteTime": {
     "end_time": "2024-06-22T02:05:09.268429Z",
     "start_time": "2024-06-22T02:05:09.261709Z"
    },
    "colab": {
     "base_uri": "https://localhost:8080/"
    },
    "id": "785c3235b7d03faa",
    "outputId": "826f84e4-a928-4b8b-eae6-ae2c98677675"
   },
   "id": "785c3235b7d03faa",
   "execution_count": 5
  },
  {
   "cell_type": "code",
   "outputs": [
    {
     "output_type": "execute_result",
     "data": {
      "text/plain": [
       "((60000,), (10000,))"
      ]
     },
     "metadata": {},
     "execution_count": 6
    }
   ],
   "source": [
    "train_labels.shape, test_labels.shape"
   ],
   "metadata": {
    "ExecuteTime": {
     "end_time": "2024-06-22T02:05:09.273513Z",
     "start_time": "2024-06-22T02:05:09.268359Z"
    },
    "colab": {
     "base_uri": "https://localhost:8080/"
    },
    "id": "fecb86d15d178020",
    "outputId": "a98fe5da-6c8f-4a95-a516-e8f20a8f5700"
   },
   "id": "fecb86d15d178020",
   "execution_count": 6
  },
  {
   "cell_type": "code",
   "outputs": [
    {
     "output_type": "execute_result",
     "data": {
      "text/plain": [
       "(28, 28)"
      ]
     },
     "metadata": {},
     "execution_count": 7
    }
   ],
   "source": [
    "train_data[0].shape"
   ],
   "metadata": {
    "ExecuteTime": {
     "end_time": "2024-06-22T02:05:09.280228Z",
     "start_time": "2024-06-22T02:05:09.274297Z"
    },
    "colab": {
     "base_uri": "https://localhost:8080/"
    },
    "id": "88db61898fb8fb34",
    "outputId": "89566535-664c-4882-b4dc-6d2818bc36dd"
   },
   "id": "88db61898fb8fb34",
   "execution_count": 7
  },
  {
   "cell_type": "code",
   "outputs": [
    {
     "output_type": "execute_result",
     "data": {
      "text/plain": [
       "5"
      ]
     },
     "metadata": {},
     "execution_count": 8
    }
   ],
   "source": [
    "train_labels[0]"
   ],
   "metadata": {
    "ExecuteTime": {
     "end_time": "2024-06-22T02:05:09.307910Z",
     "start_time": "2024-06-22T02:05:09.281014Z"
    },
    "colab": {
     "base_uri": "https://localhost:8080/"
    },
    "id": "2469eb14a9f4273e",
    "outputId": "f09ba0fb-786a-4cd1-d435-e5f0f4cc6768"
   },
   "id": "2469eb14a9f4273e",
   "execution_count": 8
  },
  {
   "cell_type": "code",
   "outputs": [],
   "source": [
    "digits_data = np.vstack([train_data, test_data])\n",
    "digits_labels = np.hstack([train_labels, test_labels])"
   ],
   "metadata": {
    "ExecuteTime": {
     "end_time": "2024-06-22T02:05:09.326944Z",
     "start_time": "2024-06-22T02:05:09.285500Z"
    },
    "id": "6773d6ae28d94eb7"
   },
   "id": "6773d6ae28d94eb7",
   "execution_count": 9
  },
  {
   "cell_type": "code",
   "outputs": [
    {
     "output_type": "execute_result",
     "data": {
      "text/plain": [
       "((70000, 28, 28), (70000,))"
      ]
     },
     "metadata": {},
     "execution_count": 10
    }
   ],
   "source": [
    "digits_data.shape, digits_labels.shape"
   ],
   "metadata": {
    "ExecuteTime": {
     "end_time": "2024-06-22T02:05:09.327953Z",
     "start_time": "2024-06-22T02:05:09.312818Z"
    },
    "colab": {
     "base_uri": "https://localhost:8080/"
    },
    "id": "1fcc0da08b2ae2c6",
    "outputId": "de65df50-f9b3-4ffc-d33e-528bde105935"
   },
   "id": "1fcc0da08b2ae2c6",
   "execution_count": 10
  },
  {
   "cell_type": "code",
   "outputs": [
    {
     "output_type": "display_data",
     "data": {
      "text/plain": [
       "<Figure size 640x480 with 1 Axes>"
      ],
      "image/png": "[encoded data removed]"
     },
     "metadata": {}
    }
   ],
   "source": [
    "index = np.random.randint(0, digits_data.shape[0])\n",
    "plt.imshow(digits_data[index], cmap='gray')\n",
    "plt.title(f'Class: {digits_labels[index]}')\n",
    "plt.show()"
   ],
   "metadata": {
    "ExecuteTime": {
     "end_time": "2024-06-22T02:05:09.434801Z",
     "start_time": "2024-06-22T02:05:09.322187Z"
    },
    "colab": {
     "base_uri": "https://localhost:8080/",
     "height": 452
    },
    "id": "43f6e72474e0bf6e",
    "outputId": "1a736d40-03e5-4ec8-e4e6-5ecf477ee45c"
   },
   "id": "43f6e72474e0bf6e",
   "execution_count": 11
  },
  {
   "cell_type": "code",
   "outputs": [],
   "source": [
    "# sns.countplot(digits_labels);"
   ],
   "metadata": {
    "ExecuteTime": {
     "end_time": "2024-06-22T02:05:09.443183Z",
     "start_time": "2024-06-22T02:05:09.439053Z"
    },
    "id": "aa284378ac5f0828"
   },
   "id": "aa284378ac5f0828",
   "execution_count": 12
  },
  {
   "cell_type": "markdown",
   "source": [
    "## Kaggle A-Z"
   ],
   "metadata": {
    "collapsed": false,
    "id": "7a94a6ef980d60cb"
   },
   "id": "7a94a6ef980d60cb"
  },
  {
   "cell_type": "code",
   "outputs": [
    {
     "output_type": "stream",
     "name": "stdout",
     "text": [
      "--2024-06-24 03:16:09--  https://iaexpert.academy/arquivos/alfabeto_A-Z.zip\n",
      "Resolving iaexpert.academy (iaexpert.academy)... 162.159.134.42\n",
      "Connecting to iaexpert.academy (iaexpert.academy)|162.159.134.42|:443... connected.\n",
      "HTTP request sent, awaiting response... 200 OK\n",
      "Length: 193643888 (185M) [application/zip]\n",
      "Saving to: ‘alfabeto_A-Z.zip’\n",
      "\n",
      "alfabeto_A-Z.zip    100%[===================>] 184.67M   124MB/s    in 1.5s    \n",
      "\n",
      "2024-06-24 03:16:10 (124 MB/s) - ‘alfabeto_A-Z.zip’ saved [193643888/193643888]\n"
     ]
    }
   ],
   "source": [
    "!wget https://iaexpert.academy/arquivos/alfabeto_A-Z.zip"
   ],
   "metadata": {
    "ExecuteTime": {
     "end_time": "2024-06-22T02:05:09.448267Z",
     "start_time": "2024-06-22T02:05:09.443735Z"
    },
    "colab": {
     "base_uri": "https://localhost:8080/"
    },
    "id": "b62ef6a4a02f9112",
    "outputId": "7dbaea93-99df-4d82-8661-c7d63b1f378b"
   },
   "id": "b62ef6a4a02f9112",
   "execution_count": 13
  },
  {
   "cell_type": "code",
   "outputs": [],
   "source": [
    "zip_object = zipfile.ZipFile('alfabeto_A-Z.zip', mode='r')\n",
    "zip_object.extractall('/content')\n",
    "zip_object.close()"
   ],
   "metadata": {
    "ExecuteTime": {
     "end_time": "2024-06-22T02:05:09.453052Z",
     "start_time": "2024-06-22T02:05:09.449Z"
    },
    "id": "2fb1c2d17cf80c8c"
   },
   "id": "2fb1c2d17cf80c8c",
   "execution_count": 14
  },
  {
   "cell_type": "code",
   "outputs": [
    {
     "output_type": "execute_result",
     "data": {
      "text/plain": [
       "         0  0.1  0.2  0.3  0.4  0.5  0.6  0.7  0.8  0.9  ...  0.639  0.640  \\\n",
       "0        0    0    0    0    0    0    0    0    0    0  ...      0      0   \n",
       "1        0    0    0    0    0    0    0    0    0    0  ...      0      0   \n",
       "2        0    0    0    0    0    0    0    0    0    0  ...      0      0   \n",
       "3        0    0    0    0    0    0    0    0    0    0  ...      0      0   \n",
       "4        0    0    0    0    0    0    0    0    0    0  ...      0      0   \n",
       "...     ..  ...  ...  ...  ...  ...  ...  ...  ...  ...  ...    ...    ...   \n",
       "372445  25    0    0    0    0    0    0    0    0    0  ...      0      0   \n",
       "372446  25    0    0    0    0    0    0    0    0    0  ...      0      0   \n",
       "372447  25    0    0    0    0    0    0    0    0    0  ...      0      0   \n",
       "372448  25    0    0    0    0    0    0    0    0    0  ...      0      0   \n",
       "372449  25    0    0    0    0    0    0    0    0    0  ...      0      0   \n",
       "\n",
       "        0.641  0.642  0.643  0.644  0.645  0.646  0.647  0.648  \n",
       "0           0      0      0      0      0      0      0      0  \n",
       "1           0      0      0      0      0      0      0      0  \n",
       "2           0      0      0      0      0      0      0      0  \n",
       "3           0      0      0      0      0      0      0      0  \n",
       "4           0      0      0      0      0      0      0      0  \n",
       "...       ...    ...    ...    ...    ...    ...    ...    ...  \n",
       "372445      0      0      0      0      0      0      0      0  \n",
       "372446      0      0      0      0      0      0      0      0  \n",
       "372447      0      0      0      0      0      0      0      0  \n",
       "372448      0      0      0      0      0      0      0      0  \n",
       "372449      0      0      0      0      0      0      0      0  \n",
       "\n",
       "[372450 rows x 785 columns]"
      ],
      "text/html": [
       "\n",
       "  <div id=\"df-54a9200a-61b0-4abf-951e-f50eed968b24\" class=\"colab-df-container\">\n",
       "    <div>\n",
       "<style scoped>\n",
       "    .dataframe tbody tr th:only-of-type {\n",
       "        vertical-align: middle;\n",
       "    }\n",
       "\n",
       "    .dataframe tbody tr th {\n",
       "        vertical-align: top;\n",
       "    }\n",
       "\n",
       "    .dataframe thead th {\n",
       "        text-align: right;\n",
       "    }\n",
       "</style>\n",
       "<table border=\"1\" class=\"dataframe\">\n",
       "  <thead>\n",
       "    <tr style=\"text-align: right;\">\n",
       "      <th></th>\n",
       "      <th>0</th>\n",
       "      <th>0.1</th>\n",
       "      <th>0.2</th>\n",
       "      <th>0.3</th>\n",
       "      <th>0.4</th>\n",
       "      <th>0.5</th>\n",
       "      <th>0.6</th>\n",
       "      <th>0.7</th>\n",
       "      <th>0.8</th>\n",
       "      <th>0.9</th>\n",
       "      <th>...</th>\n",
       "      <th>0.639</th>\n",
       "      <th>0.640</th>\n",
       "      <th>0.641</th>\n",
       "      <th>0.642</th>\n",
       "      <th>0.643</th>\n",
       "      <th>0.644</th>\n",
       "      <th>0.645</th>\n",
       "      <th>0.646</th>\n",
       "      <th>0.647</th>\n",
       "      <th>0.648</th>\n",
       "    </tr>\n",
       "  </thead>\n",
       "  <tbody>\n",
       "    <tr>\n",
       "      <th>0</th>\n",
       "      <td>0</td>\n",
       "      <td>0</td>\n",
       "      <td>0</td>\n",
       "      <td>0</td>\n",
       "      <td>0</td>\n",
       "      <td>0</td>\n",
       "      <td>0</td>\n",
       "      <td>0</td>\n",
       "      <td>0</td>\n",
       "      <td>0</td>\n",
       "      <td>...</td>\n",
       "      <td>0</td>\n",
       "      <td>0</td>\n",
       "      <td>0</td>\n",
       "      <td>0</td>\n",
       "      <td>0</td>\n",
       "      <td>0</td>\n",
       "      <td>0</td>\n",
       "      <td>0</td>\n",
       "      <td>0</td>\n",
       "      <td>0</td>\n",
       "    </tr>\n",
       "    <tr>\n",
       "      <th>1</th>\n",
       "      <td>0</td>\n",
       "      <td>0</td>\n",
       "      <td>0</td>\n",
       "      <td>0</td>\n",
       "      <td>0</td>\n",
       "      <td>0</td>\n",
       "      <td>0</td>\n",
       "      <td>0</td>\n",
       "      <td>0</td>\n",
       "      <td>0</td>\n",
       "      <td>...</td>\n",
       "      <td>0</td>\n",
       "      <td>0</td>\n",
       "      <td>0</td>\n",
       "      <td>0</td>\n",
       "      <td>0</td>\n",
       "      <td>0</td>\n",
       "      <td>0</td>\n",
       "      <td>0</td>\n",
       "      <td>0</td>\n",
       "      <td>0</td>\n",
       "    </tr>\n",
       "    <tr>\n",
       "      <th>2</th>\n",
       "      <td>0</td>\n",
       "      <td>0</td>\n",
       "      <td>0</td>\n",
       "      <td>0</td>\n",
       "      <td>0</td>\n",
       "      <td>0</td>\n",
       "      <td>0</td>\n",
       "      <td>0</td>\n",
       "      <td>0</td>\n",
       "      <td>0</td>\n",
       "      <td>...</td>\n",
       "      <td>0</td>\n",
       "      <td>0</td>\n",
       "      <td>0</td>\n",
       "      <td>0</td>\n",
       "      <td>0</td>\n",
       "      <td>0</td>\n",
       "      <td>0</td>\n",
       "      <td>0</td>\n",
       "      <td>0</td>\n",
       "      <td>0</td>\n",
       "    </tr>\n",
       "    <tr>\n",
       "      <th>3</th>\n",
       "      <td>0</td>\n",
       "      <td>0</td>\n",
       "      <td>0</td>\n",
       "      <td>0</td>\n",
       "      <td>0</td>\n",
       "      <td>0</td>\n",
       "      <td>0</td>\n",
       "      <td>0</td>\n",
       "      <td>0</td>\n",
       "      <td>0</td>\n",
       "      <td>...</td>\n",
       "      <td>0</td>\n",
       "      <td>0</td>\n",
       "      <td>0</td>\n",
       "      <td>0</td>\n",
       "      <td>0</td>\n",
       "      <td>0</td>\n",
       "      <td>0</td>\n",
       "      <td>0</td>\n",
       "      <td>0</td>\n",
       "      <td>0</td>\n",
       "    </tr>\n",
       "    <tr>\n",
       "      <th>4</th>\n",
       "      <td>0</td>\n",
       "      <td>0</td>\n",
       "      <td>0</td>\n",
       "      <td>0</td>\n",
       "      <td>0</td>\n",
       "      <td>0</td>\n",
       "      <td>0</td>\n",
       "      <td>0</td>\n",
       "      <td>0</td>\n",
       "      <td>0</td>\n",
       "      <td>...</td>\n",
       "      <td>0</td>\n",
       "      <td>0</td>\n",
       "      <td>0</td>\n",
       "      <td>0</td>\n",
       "      <td>0</td>\n",
       "      <td>0</td>\n",
       "      <td>0</td>\n",
       "      <td>0</td>\n",
       "      <td>0</td>\n",
       "      <td>0</td>\n",
       "    </tr>\n",
       "    <tr>\n",
       "      <th>...</th>\n",
       "      <td>...</td>\n",
       "      <td>...</td>\n",
       "      <td>...</td>\n",
       "      <td>...</td>\n",
       "      <td>...</td>\n",
       "      <td>...</td>\n",
       "      <td>...</td>\n",
       "      <td>...</td>\n",
       "      <td>...</td>\n",
       "      <td>...</td>\n",
       "      <td>...</td>\n",
       "      <td>...</td>\n",
       "      <td>...</td>\n",
       "      <td>...</td>\n",
       "      <td>...</td>\n",
       "      <td>...</td>\n",
       "      <td>...</td>\n",
       "      <td>...</td>\n",
       "      <td>...</td>\n",
       "      <td>...</td>\n",
       "      <td>...</td>\n",
       "    </tr>\n",
       "    <tr>\n",
       "      <th>372445</th>\n",
       "      <td>25</td>\n",
       "      <td>0</td>\n",
       "      <td>0</td>\n",
       "      <td>0</td>\n",
       "      <td>0</td>\n",
       "      <td>0</td>\n",
       "      <td>0</td>\n",
       "      <td>0</td>\n",
       "      <td>0</td>\n",
       "      <td>0</td>\n",
       "      <td>...</td>\n",
       "      <td>0</td>\n",
       "      <td>0</td>\n",
       "      <td>0</td>\n",
       "      <td>0</td>\n",
       "      <td>0</td>\n",
       "      <td>0</td>\n",
       "      <td>0</td>\n",
       "      <td>0</td>\n",
       "      <td>0</td>\n",
       "      <td>0</td>\n",
       "    </tr>\n",
       "    <tr>\n",
       "      <th>372446</th>\n",
       "      <td>25</td>\n",
       "      <td>0</td>\n",
       "      <td>0</td>\n",
       "      <td>0</td>\n",
       "      <td>0</td>\n",
       "      <td>0</td>\n",
       "      <td>0</td>\n",
       "      <td>0</td>\n",
       "      <td>0</td>\n",
       "      <td>0</td>\n",
       "      <td>...</td>\n",
       "      <td>0</td>\n",
       "      <td>0</td>\n",
       "      <td>0</td>\n",
       "      <td>0</td>\n",
       "      <td>0</td>\n",
       "      <td>0</td>\n",
       "      <td>0</td>\n",
       "      <td>0</td>\n",
       "      <td>0</td>\n",
       "      <td>0</td>\n",
       "    </tr>\n",
       "    <tr>\n",
       "      <th>372447</th>\n",
       "      <td>25</td>\n",
       "      <td>0</td>\n",
       "      <td>0</td>\n",
       "      <td>0</td>\n",
       "      <td>0</td>\n",
       "      <td>0</td>\n",
       "      <td>0</td>\n",
       "      <td>0</td>\n",
       "      <td>0</td>\n",
       "      <td>0</td>\n",
       "      <td>...</td>\n",
       "      <td>0</td>\n",
       "      <td>0</td>\n",
       "      <td>0</td>\n",
       "      <td>0</td>\n",
       "      <td>0</td>\n",
       "      <td>0</td>\n",
       "      <td>0</td>\n",
       "      <td>0</td>\n",
       "      <td>0</td>\n",
       "      <td>0</td>\n",
       "    </tr>\n",
       "    <tr>\n",
       "      <th>372448</th>\n",
       "      <td>25</td>\n",
       "      <td>0</td>\n",
       "      <td>0</td>\n",
       "      <td>0</td>\n",
       "      <td>0</td>\n",
       "      <td>0</td>\n",
       "      <td>0</td>\n",
       "      <td>0</td>\n",
       "      <td>0</td>\n",
       "      <td>0</td>\n",
       "      <td>...</td>\n",
       "      <td>0</td>\n",
       "      <td>0</td>\n",
       "      <td>0</td>\n",
       "      <td>0</td>\n",
       "      <td>0</td>\n",
       "      <td>0</td>\n",
       "      <td>0</td>\n",
       "      <td>0</td>\n",
       "      <td>0</td>\n",
       "      <td>0</td>\n",
       "    </tr>\n",
       "    <tr>\n",
       "      <th>372449</th>\n",
       "      <td>25</td>\n",
       "      <td>0</td>\n",
       "      <td>0</td>\n",
       "      <td>0</td>\n",
       "      <td>0</td>\n",
       "      <td>0</td>\n",
       "      <td>0</td>\n",
       "      <td>0</td>\n",
       "      <td>0</td>\n",
       "      <td>0</td>\n",
       "      <td>...</td>\n",
       "      <td>0</td>\n",
       "      <td>0</td>\n",
       "      <td>0</td>\n",
       "      <td>0</td>\n",
       "      <td>0</td>\n",
       "      <td>0</td>\n",
       "      <td>0</td>\n",
       "      <td>0</td>\n",
       "      <td>0</td>\n",
       "      <td>0</td>\n",
       "    </tr>\n",
       "  </tbody>\n",
       "</table>\n",
       "<p>372450 rows × 785 columns</p>\n",
       "</div>\n",
       "    <div class=\"colab-df-buttons\">\n",
       "\n",
       "  <div class=\"colab-df-container\">\n",
       "    <button class=\"colab-df-convert\" onclick=\"convertToInteractive('df-54a9200a-61b0-4abf-951e-f50eed968b24')\"\n",
       "            title=\"Convert this dataframe to an interactive table.\"\n",
       "            style=\"display:none;\">\n",
       "\n",
       "  <svg xmlns=\"http://www.w3.org/2000/svg\" height=\"24px\" viewBox=\"0 -960 960 960\">\n",
       "    <path d=\"M120-120v-720h720v720H120Zm60-500h600v-160H180v160Zm220 220h160v-160H400v160Zm0 220h160v-160H400v160ZM180-400h160v-160H180v160Zm440 0h160v-160H620v160ZM180-180h160v-160H180v160Zm440 0h160v-160H620v160Z\"/>\n",
       "  </svg>\n",
       "    </button>\n",
       "\n",
       "  <style>\n",
       "    .colab-df-container {\n",
       "      display:flex;\n",
       "      gap: 12px;\n",
       "    }\n",
       "\n",
       "    .colab-df-convert {\n",
       "      background-color: #E8F0FE;\n",
       "      border: none;\n",
       "      border-radius: 50%;\n",
       "      cursor: pointer;\n",
       "      display: none;\n",
       "      fill: #1967D2;\n",
       "      height: 32px;\n",
       "      padding: 0 0 0 0;\n",
       "      width: 32px;\n",
       "    }\n",
       "\n",
       "    .colab-df-convert:hover {\n",
       "      background-color: #E2EBFA;\n",
       "      box-shadow: 0px 1px 2px rgba(60, 64, 67, 0.3), 0px 1px 3px 1px rgba(60, 64, 67, 0.15);\n",
       "      fill: #174EA6;\n",
       "    }\n",
       "\n",
       "    .colab-df-buttons div {\n",
       "      margin-bottom: 4px;\n",
       "    }\n",
       "\n",
       "    [theme=dark] .colab-df-convert {\n",
       "      background-color: #3B4455;\n",
       "      fill: #D2E3FC;\n",
       "    }\n",
       "\n",
       "    [theme=dark] .colab-df-convert:hover {\n",
       "      background-color: #434B5C;\n",
       "      box-shadow: 0px 1px 3px 1px rgba(0, 0, 0, 0.15);\n",
       "      filter: drop-shadow(0px 1px 2px rgba(0, 0, 0, 0.3));\n",
       "      fill: #FFFFFF;\n",
       "    }\n",
       "  </style>\n",
       "\n",
       "    <script>\n",
       "      const buttonEl =\n",
       "        document.querySelector('#df-54a9200a-61b0-4abf-951e-f50eed968b24 button.colab-df-convert');\n",
       "      buttonEl.style.display =\n",
       "        google.colab.kernel.accessAllowed ? 'block' : 'none';\n",
       "\n",
       "      async function convertToInteractive(key) {\n",
       "        const element = document.querySelector('#df-54a9200a-61b0-4abf-951e-f50eed968b24');\n",
       "        const dataTable =\n",
       "          await google.colab.kernel.invokeFunction('convertToInteractive',\n",
       "                                                    [key], {});\n",
       "        if (!dataTable) return;\n",
       "\n",
       "        const docLinkHtml = 'Like what you see? Visit the ' +\n",
       "          '<a target=\"_blank\" href=https://colab.research.google.com/notebooks/data_table.ipynb>data table notebook</a>'\n",
       "          + ' to learn more about interactive tables.';\n",
       "        element.innerHTML = '';\n",
       "        dataTable['output_type'] = 'display_data';\n",
       "        await google.colab.output.renderOutput(dataTable, element);\n",
       "        const docLink = document.createElement('div');\n",
       "        docLink.innerHTML = docLinkHtml;\n",
       "        element.appendChild(docLink);\n",
       "      }\n",
       "    </script>\n",
       "  </div>\n",
       "\n",
       "\n",
       "<div id=\"df-ac03734d-67ad-4b63-ae39-c49fe1a9001c\">\n",
       "  <button class=\"colab-df-quickchart\" onclick=\"quickchart('df-ac03734d-67ad-4b63-ae39-c49fe1a9001c')\"\n",
       "            title=\"Suggest charts\"\n",
       "            style=\"display:none;\">\n",
       "\n",
       "<svg xmlns=\"http://www.w3.org/2000/svg\" height=\"24px\"viewBox=\"0 0 24 24\"\n",
       "     width=\"24px\">\n",
       "    <g>\n",
       "        <path d=\"M19 3H5c-1.1 0-2 .9-2 2v14c0 1.1.9 2 2 2h14c1.1 0 2-.9 2-2V5c0-1.1-.9-2-2-2zM9 17H7v-7h2v7zm4 0h-2V7h2v10zm4 0h-2v-4h2v4z\"/>\n",
       "    </g>\n",
       "</svg>\n",
       "  </button>\n",
       "\n",
       "<style>\n",
       "  .colab-df-quickchart {\n",
       "      --bg-color: #E8F0FE;\n",
       "      --fill-color: #1967D2;\n",
       "      --hover-bg-color: #E2EBFA;\n",
       "      --hover-fill-color: #174EA6;\n",
       "      --disabled-fill-color: #AAA;\n",
       "      --disabled-bg-color: #DDD;\n",
       "  }\n",
       "\n",
       "  [theme=dark] .colab-df-quickchart {\n",
       "      --bg-color: #3B4455;\n",
       "      --fill-color: #D2E3FC;\n",
       "      --hover-bg-color: #434B5C;\n",
       "      --hover-fill-color: #FFFFFF;\n",
       "      --disabled-bg-color: #3B4455;\n",
       "      --disabled-fill-color: #666;\n",
       "  }\n",
       "\n",
       "  .colab-df-quickchart {\n",
       "    background-color: var(--bg-color);\n",
       "    border: none;\n",
       "    border-radius: 50%;\n",
       "    cursor: pointer;\n",
       "    display: none;\n",
       "    fill: var(--fill-color);\n",
       "    height: 32px;\n",
       "    padding: 0;\n",
       "    width: 32px;\n",
       "  }\n",
       "\n",
       "  .colab-df-quickchart:hover {\n",
       "    background-color: var(--hover-bg-color);\n",
       "    box-shadow: 0 1px 2px rgba(60, 64, 67, 0.3), 0 1px 3px 1px rgba(60, 64, 67, 0.15);\n",
       "    fill: var(--button-hover-fill-color);\n",
       "  }\n",
       "\n",
       "  .colab-df-quickchart-complete:disabled,\n",
       "  .colab-df-quickchart-complete:disabled:hover {\n",
       "    background-color: var(--disabled-bg-color);\n",
       "    fill: var(--disabled-fill-color);\n",
       "    box-shadow: none;\n",
       "  }\n",
       "\n",
       "  .colab-df-spinner {\n",
       "    border: 2px solid var(--fill-color);\n",
       "    border-color: transparent;\n",
       "    border-bottom-color: var(--fill-color);\n",
       "    animation:\n",
       "      spin 1s steps(1) infinite;\n",
       "  }\n",
       "\n",
       "  @keyframes spin {\n",
       "    0% {\n",
       "      border-color: transparent;\n",
       "      border-bottom-color: var(--fill-color);\n",
       "      border-left-color: var(--fill-color);\n",
       "    }\n",
       "    20% {\n",
       "      border-color: transparent;\n",
       "      border-left-color: var(--fill-color);\n",
       "      border-top-color: var(--fill-color);\n",
       "    }\n",
       "    30% {\n",
       "      border-color: transparent;\n",
       "      border-left-color: var(--fill-color);\n",
       "      border-top-color: var(--fill-color);\n",
       "      border-right-color: var(--fill-color);\n",
       "    }\n",
       "    40% {\n",
       "      border-color: transparent;\n",
       "      border-right-color: var(--fill-color);\n",
       "      border-top-color: var(--fill-color);\n",
       "    }\n",
       "    60% {\n",
       "      border-color: transparent;\n",
       "      border-right-color: var(--fill-color);\n",
       "    }\n",
       "    80% {\n",
       "      border-color: transparent;\n",
       "      border-right-color: var(--fill-color);\n",
       "      border-bottom-color: var(--fill-color);\n",
       "    }\n",
       "    90% {\n",
       "      border-color: transparent;\n",
       "      border-bottom-color: var(--fill-color);\n",
       "    }\n",
       "  }\n",
       "</style>\n",
       "\n",
       "  <script>\n",
       "    async function quickchart(key) {\n",
       "      const quickchartButtonEl =\n",
       "        document.querySelector('#' + key + ' button');\n",
       "      quickchartButtonEl.disabled = true;  // To prevent multiple clicks.\n",
       "      quickchartButtonEl.classList.add('colab-df-spinner');\n",
       "      try {\n",
       "        const charts = await google.colab.kernel.invokeFunction(\n",
       "            'suggestCharts', [key], {});\n",
       "      } catch (error) {\n",
       "        console.error('Error during call to suggestCharts:', error);\n",
       "      }\n",
       "      quickchartButtonEl.classList.remove('colab-df-spinner');\n",
       "      quickchartButtonEl.classList.add('colab-df-quickchart-complete');\n",
       "    }\n",
       "    (() => {\n",
       "      let quickchartButtonEl =\n",
       "        document.querySelector('#df-ac03734d-67ad-4b63-ae39-c49fe1a9001c button');\n",
       "      quickchartButtonEl.style.display =\n",
       "        google.colab.kernel.accessAllowed ? 'block' : 'none';\n",
       "    })();\n",
       "  </script>\n",
       "</div>\n",
       "\n",
       "  <div id=\"id_c4573d0b-fa79-45dd-b6ef-65999c25f8b0\">\n",
       "    <style>\n",
       "      .colab-df-generate {\n",
       "        background-color: #E8F0FE;\n",
       "        border: none;\n",
       "        border-radius: 50%;\n",
       "        cursor: pointer;\n",
       "        display: none;\n",
       "        fill: #1967D2;\n",
       "        height: 32px;\n",
       "        padding: 0 0 0 0;\n",
       "        width: 32px;\n",
       "      }\n",
       "\n",
       "      .colab-df-generate:hover {\n",
       "        background-color: #E2EBFA;\n",
       "        box-shadow: 0px 1px 2px rgba(60, 64, 67, 0.3), 0px 1px 3px 1px rgba(60, 64, 67, 0.15);\n",
       "        fill: #174EA6;\n",
       "      }\n",
       "\n",
       "      [theme=dark] .colab-df-generate {\n",
       "        background-color: #3B4455;\n",
       "        fill: #D2E3FC;\n",
       "      }\n",
       "\n",
       "      [theme=dark] .colab-df-generate:hover {\n",
       "        background-color: #434B5C;\n",
       "        box-shadow: 0px 1px 3px 1px rgba(0, 0, 0, 0.15);\n",
       "        filter: drop-shadow(0px 1px 2px rgba(0, 0, 0, 0.3));\n",
       "        fill: #FFFFFF;\n",
       "      }\n",
       "    </style>\n",
       "    <button class=\"colab-df-generate\" onclick=\"generateWithVariable('ds_az')\"\n",
       "            title=\"Generate code using this dataframe.\"\n",
       "            style=\"display:none;\">\n",
       "\n",
       "  <svg xmlns=\"http://www.w3.org/2000/svg\" height=\"24px\"viewBox=\"0 0 24 24\"\n",
       "       width=\"24px\">\n",
       "    <path d=\"M7,19H8.4L18.45,9,17,7.55,7,17.6ZM5,21V16.75L18.45,3.32a2,2,0,0,1,2.83,0l1.4,1.43a1.91,1.91,0,0,1,.58,1.4,1.91,1.91,0,0,1-.58,1.4L9.25,21ZM18.45,9,17,7.55Zm-12,3A5.31,5.31,0,0,0,4.9,8.1,5.31,5.31,0,0,0,1,6.5,5.31,5.31,0,0,0,4.9,4.9,5.31,5.31,0,0,0,6.5,1,5.31,5.31,0,0,0,8.1,4.9,5.31,5.31,0,0,0,12,6.5,5.46,5.46,0,0,0,6.5,12Z\"/>\n",
       "  </svg>\n",
       "    </button>\n",
       "    <script>\n",
       "      (() => {\n",
       "      const buttonEl =\n",
       "        document.querySelector('#id_c4573d0b-fa79-45dd-b6ef-65999c25f8b0 button.colab-df-generate');\n",
       "      buttonEl.style.display =\n",
       "        google.colab.kernel.accessAllowed ? 'block' : 'none';\n",
       "\n",
       "      buttonEl.onclick = () => {\n",
       "        google.colab.notebook.generateWithVariable('ds_az');\n",
       "      }\n",
       "      })();\n",
       "    </script>\n",
       "  </div>\n",
       "\n",
       "    </div>\n",
       "  </div>\n"
      ],
      "application/vnd.google.colaboratory.intrinsic+json": {
       "type": "dataframe",
       "variable_name": "ds_az"
      }
     },
     "metadata": {},
     "execution_count": 15
    }
   ],
   "source": [
    "ds_az = pd.read_csv('A_Z Handwritten Data/A_Z Handwritten Data.csv')\n",
    "ds_az"
   ],
   "metadata": {
    "ExecuteTime": {
     "end_time": "2024-06-22T02:05:18.238351Z",
     "start_time": "2024-06-22T02:05:09.453947Z"
    },
    "colab": {
     "base_uri": "https://localhost:8080/",
     "height": 424
    },
    "id": "f50ec988efee909b",
    "outputId": "f928fec2-d7fe-4ed6-f554-8edb03c0f194"
   },
   "id": "f50ec988efee909b",
   "execution_count": 15
  },
  {
   "cell_type": "code",
   "outputs": [],
   "source": [
    "alphabet_data = ds_az.drop('0', axis=1)\n",
    "alphabet_labels = ds_az['0']"
   ],
   "metadata": {
    "ExecuteTime": {
     "end_time": "2024-06-22T02:05:19.500045Z",
     "start_time": "2024-06-22T02:05:18.227511Z"
    },
    "id": "e2e5712bdd70e8b4"
   },
   "id": "e2e5712bdd70e8b4",
   "execution_count": 16
  },
  {
   "cell_type": "code",
   "outputs": [
    {
     "output_type": "execute_result",
     "data": {
      "text/plain": [
       "((372450, 784), (372450,))"
      ]
     },
     "metadata": {},
     "execution_count": 17
    }
   ],
   "source": [
    "alphabet_data.shape, alphabet_labels.shape"
   ],
   "metadata": {
    "ExecuteTime": {
     "end_time": "2024-06-22T02:05:19.527257Z",
     "start_time": "2024-06-22T02:05:19.501307Z"
    },
    "colab": {
     "base_uri": "https://localhost:8080/"
    },
    "id": "27e9e6c3e7e5231d",
    "outputId": "c0924564-1438-48b9-a43b-4151c89864ee"
   },
   "id": "27e9e6c3e7e5231d",
   "execution_count": 17
  },
  {
   "cell_type": "code",
   "outputs": [
    {
     "output_type": "execute_result",
     "data": {
      "text/plain": [
       "(372450, 28, 28)"
      ]
     },
     "metadata": {},
     "execution_count": 18
    }
   ],
   "source": [
    "alphabet_data = np.reshape(alphabet_data.values, (alphabet_data.shape[0], 28, 28))\n",
    "alphabet_data.shape"
   ],
   "metadata": {
    "ExecuteTime": {
     "end_time": "2024-06-22T02:05:19.541523Z",
     "start_time": "2024-06-22T02:05:19.523523Z"
    },
    "colab": {
     "base_uri": "https://localhost:8080/"
    },
    "id": "effb37709e2e43e8",
    "outputId": "9fa94d33-f3a0-4d18-c9b5-d04b4dbbca77"
   },
   "id": "effb37709e2e43e8",
   "execution_count": 18
  },
  {
   "cell_type": "code",
   "outputs": [
    {
     "output_type": "execute_result",
     "data": {
      "text/plain": [
       "<matplotlib.image.AxesImage at 0x7f1d48b64610>"
      ]
     },
     "metadata": {},
     "execution_count": 19
    },
    {
     "output_type": "display_data",
     "data": {
      "text/plain": [
       "<Figure size 640x480 with 1 Axes>"
      ],
      "image/png": "[encoded data removed]"
     },
     "metadata": {}
    }
   ],
   "source": [
    "index = np.random.randint(0, alphabet_data.shape[0])\n",
    "plt.imshow(alphabet_data[index], cmap='gray')"
   ],
   "metadata": {
    "ExecuteTime": {
     "end_time": "2024-06-22T02:05:19.683832Z",
     "start_time": "2024-06-22T02:05:19.538677Z"
    },
    "colab": {
     "base_uri": "https://localhost:8080/",
     "height": 447
    },
    "id": "2d933c8bb4322bfe",
    "outputId": "dae69407-6d48-4184-d358-4a89c44fece5"
   },
   "id": "2d933c8bb4322bfe",
   "execution_count": 19
  },
  {
   "cell_type": "code",
   "outputs": [],
   "source": [
    "# sns.countplot(alphabet_labels);\n"
   ],
   "metadata": {
    "ExecuteTime": {
     "end_time": "2024-06-22T02:05:19.690016Z",
     "start_time": "2024-06-22T02:05:19.681422Z"
    },
    "id": "8b5cd8000665cdf3"
   },
   "id": "8b5cd8000665cdf3",
   "execution_count": 20
  },
  {
   "cell_type": "markdown",
   "source": [
    "## Joining datasets"
   ],
   "metadata": {
    "collapsed": false,
    "id": "9996e5a463e3478f"
   },
   "id": "9996e5a463e3478f"
  },
  {
   "cell_type": "code",
   "outputs": [
    {
     "output_type": "execute_result",
     "data": {
      "text/plain": [
       "(array([5, 0, 4, ..., 4, 5, 6], dtype=uint8),\n",
       " array([0, 1, 2, 3, 4, 5, 6, 7, 8, 9], dtype=uint8))"
      ]
     },
     "metadata": {},
     "execution_count": 21
    }
   ],
   "source": [
    "digits_labels, np.unique(digits_labels)"
   ],
   "metadata": {
    "ExecuteTime": {
     "end_time": "2024-06-22T02:05:19.704510Z",
     "start_time": "2024-06-22T02:05:19.689671Z"
    },
    "colab": {
     "base_uri": "https://localhost:8080/"
    },
    "id": "ab4fe7035bea0a53",
    "outputId": "f52c3a3f-827e-415c-e942-8a1ae7e5d62d"
   },
   "id": "ab4fe7035bea0a53",
   "execution_count": 21
  },
  {
   "cell_type": "code",
   "outputs": [
    {
     "output_type": "execute_result",
     "data": {
      "text/plain": [
       "(0          0\n",
       " 1          0\n",
       " 2          0\n",
       " 3          0\n",
       " 4          0\n",
       "           ..\n",
       " 372445    25\n",
       " 372446    25\n",
       " 372447    25\n",
       " 372448    25\n",
       " 372449    25\n",
       " Name: 0, Length: 372450, dtype: int64,\n",
       " array([ 0,  1,  2,  3,  4,  5,  6,  7,  8,  9, 10, 11, 12, 13, 14, 15, 16,\n",
       "        17, 18, 19, 20, 21, 22, 23, 24, 25]))"
      ]
     },
     "metadata": {},
     "execution_count": 22
    }
   ],
   "source": [
    "alphabet_labels, np.unique(alphabet_labels)"
   ],
   "metadata": {
    "ExecuteTime": {
     "end_time": "2024-06-22T02:05:19.727443Z",
     "start_time": "2024-06-22T02:05:19.701782Z"
    },
    "colab": {
     "base_uri": "https://localhost:8080/"
    },
    "id": "b0a957e193815ce6",
    "outputId": "812fbd02-7802-4975-dbe1-0edb90aea8dc"
   },
   "id": "b0a957e193815ce6",
   "execution_count": 22
  },
  {
   "cell_type": "code",
   "outputs": [],
   "source": [
    "alphabet_labels += 10"
   ],
   "metadata": {
    "ExecuteTime": {
     "end_time": "2024-06-22T02:05:19.728484Z",
     "start_time": "2024-06-22T02:05:19.718091Z"
    },
    "id": "ccecfc466ca7fe01"
   },
   "id": "ccecfc466ca7fe01",
   "execution_count": 23
  },
  {
   "cell_type": "code",
   "outputs": [
    {
     "output_type": "execute_result",
     "data": {
      "text/plain": [
       "(0         10\n",
       " 1         10\n",
       " 2         10\n",
       " 3         10\n",
       " 4         10\n",
       "           ..\n",
       " 372445    35\n",
       " 372446    35\n",
       " 372447    35\n",
       " 372448    35\n",
       " 372449    35\n",
       " Name: 0, Length: 372450, dtype: int64,\n",
       " array([10, 11, 12, 13, 14, 15, 16, 17, 18, 19, 20, 21, 22, 23, 24, 25, 26,\n",
       "        27, 28, 29, 30, 31, 32, 33, 34, 35]))"
      ]
     },
     "metadata": {},
     "execution_count": 24
    }
   ],
   "source": [
    "alphabet_labels, np.unique(alphabet_labels)"
   ],
   "metadata": {
    "ExecuteTime": {
     "end_time": "2024-06-22T02:05:19.761208Z",
     "start_time": "2024-06-22T02:05:19.728113Z"
    },
    "colab": {
     "base_uri": "https://localhost:8080/"
    },
    "id": "7b00a90e87acb53b",
    "outputId": "06dcffbb-82d9-48be-e15a-631a90f1c2f6"
   },
   "id": "7b00a90e87acb53b",
   "execution_count": 24
  },
  {
   "cell_type": "code",
   "outputs": [],
   "source": [
    "data = np.vstack([alphabet_data, digits_data])\n",
    "labels = np.hstack([alphabet_labels, digits_labels])"
   ],
   "metadata": {
    "ExecuteTime": {
     "end_time": "2024-06-22T02:05:21.184730Z",
     "start_time": "2024-06-22T02:05:19.742495Z"
    },
    "id": "dc7001997e9be1a4"
   },
   "id": "dc7001997e9be1a4",
   "execution_count": 25
  },
  {
   "cell_type": "code",
   "outputs": [
    {
     "output_type": "execute_result",
     "data": {
      "text/plain": [
       "((442450, 28, 28), (442450,))"
      ]
     },
     "metadata": {},
     "execution_count": 26
    }
   ],
   "source": [
    "data.shape, labels.shape"
   ],
   "metadata": {
    "ExecuteTime": {
     "end_time": "2024-06-22T02:05:21.192469Z",
     "start_time": "2024-06-22T02:05:21.185972Z"
    },
    "colab": {
     "base_uri": "https://localhost:8080/"
    },
    "id": "accac9c140bca377",
    "outputId": "106c0db1-71b8-45a0-b54a-6dc5bf3ac0da"
   },
   "id": "accac9c140bca377",
   "execution_count": 26
  },
  {
   "cell_type": "code",
   "outputs": [
    {
     "output_type": "execute_result",
     "data": {
      "text/plain": [
       "array([ 0,  1,  2,  3,  4,  5,  6,  7,  8,  9, 10, 11, 12, 13, 14, 15, 16,\n",
       "       17, 18, 19, 20, 21, 22, 23, 24, 25, 26, 27, 28, 29, 30, 31, 32, 33,\n",
       "       34, 35])"
      ]
     },
     "metadata": {},
     "execution_count": 27
    }
   ],
   "source": [
    "np.unique(labels)"
   ],
   "metadata": {
    "ExecuteTime": {
     "end_time": "2024-06-22T02:05:21.200428Z",
     "start_time": "2024-06-22T02:05:21.189404Z"
    },
    "colab": {
     "base_uri": "https://localhost:8080/"
    },
    "id": "38981dac86e918f3",
    "outputId": "b1b3e13d-246d-4968-f50e-16f3d7dfd3df"
   },
   "id": "38981dac86e918f3",
   "execution_count": 27
  },
  {
   "cell_type": "code",
   "outputs": [],
   "source": [
    "data = np.array(data, dtype='float32')"
   ],
   "metadata": {
    "ExecuteTime": {
     "end_time": "2024-06-22T02:05:22.378018Z",
     "start_time": "2024-06-22T02:05:21.201357Z"
    },
    "id": "79a2945a6a1d3603"
   },
   "id": "79a2945a6a1d3603",
   "execution_count": 28
  },
  {
   "cell_type": "code",
   "outputs": [],
   "source": [
    "data = np.expand_dims(data, axis=-1)"
   ],
   "metadata": {
    "ExecuteTime": {
     "end_time": "2024-06-22T02:05:22.378824Z",
     "start_time": "2024-06-22T02:05:22.375662Z"
    },
    "id": "e2ef3cde0c6ae8cc"
   },
   "id": "e2ef3cde0c6ae8cc",
   "execution_count": 29
  },
  {
   "cell_type": "code",
   "outputs": [
    {
     "output_type": "execute_result",
     "data": {
      "text/plain": [
       "(442450, 28, 28, 1)"
      ]
     },
     "metadata": {},
     "execution_count": 30
    }
   ],
   "source": [
    "data.shape"
   ],
   "metadata": {
    "ExecuteTime": {
     "end_time": "2024-06-22T02:05:22.381367Z",
     "start_time": "2024-06-22T02:05:22.378394Z"
    },
    "colab": {
     "base_uri": "https://localhost:8080/"
    },
    "id": "a1430bd186d2c287",
    "outputId": "f528cc52-c09e-436c-8d7e-a2ec1293a4e8"
   },
   "id": "a1430bd186d2c287",
   "execution_count": 30
  },
  {
   "cell_type": "markdown",
   "source": [
    "## Pre-processing the data"
   ],
   "metadata": {
    "collapsed": false,
    "id": "be3ff5741d7b7d2b"
   },
   "id": "be3ff5741d7b7d2b"
  },
  {
   "cell_type": "code",
   "outputs": [
    {
     "output_type": "execute_result",
     "data": {
      "text/plain": [
       "(0.0, 255.0)"
      ]
     },
     "metadata": {},
     "execution_count": 31
    }
   ],
   "source": [
    "data[0].min(), data[0].max()"
   ],
   "metadata": {
    "ExecuteTime": {
     "end_time": "2024-06-22T02:05:22.388059Z",
     "start_time": "2024-06-22T02:05:22.381708Z"
    },
    "colab": {
     "base_uri": "https://localhost:8080/"
    },
    "id": "27df00f78e814055",
    "outputId": "fe0a4144-273c-4815-c511-8adf16945c4b"
   },
   "id": "27df00f78e814055",
   "execution_count": 31
  },
  {
   "cell_type": "code",
   "outputs": [],
   "source": [
    "data /= 255.0"
   ],
   "metadata": {
    "ExecuteTime": {
     "end_time": "2024-06-22T02:05:22.636277Z",
     "start_time": "2024-06-22T02:05:22.384512Z"
    },
    "id": "c03f19749b193fa2"
   },
   "id": "c03f19749b193fa2",
   "execution_count": 32
  },
  {
   "cell_type": "code",
   "outputs": [
    {
     "output_type": "execute_result",
     "data": {
      "text/plain": [
       "(0.0, 1.0)"
      ]
     },
     "metadata": {},
     "execution_count": 33
    }
   ],
   "source": [
    "data[0].min(), data[0].max()"
   ],
   "metadata": {
    "ExecuteTime": {
     "end_time": "2024-06-22T02:05:22.641488Z",
     "start_time": "2024-06-22T02:05:22.637113Z"
    },
    "colab": {
     "base_uri": "https://localhost:8080/"
    },
    "id": "c343529bcc19acc3",
    "outputId": "b446e552-faa9-48c1-9c86-e2b437ad59b8"
   },
   "id": "c343529bcc19acc3",
   "execution_count": 33
  },
  {
   "cell_type": "code",
   "outputs": [
    {
     "output_type": "execute_result",
     "data": {
      "text/plain": [
       "(array([ 0,  1,  2,  3,  4,  5,  6,  7,  8,  9, 10, 11, 12, 13, 14, 15, 16,\n",
       "        17, 18, 19, 20, 21, 22, 23, 24, 25, 26, 27, 28, 29, 30, 31, 32, 33,\n",
       "        34, 35]),\n",
       " 36)"
      ]
     },
     "metadata": {},
     "execution_count": 34
    }
   ],
   "source": [
    "np.unique(labels), len(np.unique(labels))"
   ],
   "metadata": {
    "ExecuteTime": {
     "end_time": "2024-06-22T02:05:22.656071Z",
     "start_time": "2024-06-22T02:05:22.640613Z"
    },
    "colab": {
     "base_uri": "https://localhost:8080/"
    },
    "id": "576a8dfc3edf5c6a",
    "outputId": "520dc006-f224-4f88-b8cb-dd81d8150f64"
   },
   "id": "576a8dfc3edf5c6a",
   "execution_count": 34
  },
  {
   "cell_type": "code",
   "outputs": [],
   "source": [
    "le = LabelBinarizer()\n",
    "labels = le.fit_transform(labels)"
   ],
   "metadata": {
    "ExecuteTime": {
     "end_time": "2024-06-22T02:05:22.713547Z",
     "start_time": "2024-06-22T02:05:22.656026Z"
    },
    "id": "88d2136140eb4844"
   },
   "id": "88d2136140eb4844",
   "execution_count": 35
  },
  {
   "cell_type": "code",
   "outputs": [
    {
     "output_type": "execute_result",
     "data": {
      "text/plain": [
       "array([0, 1])"
      ]
     },
     "metadata": {},
     "execution_count": 36
    }
   ],
   "source": [
    "np.unique(labels)"
   ],
   "metadata": {
    "ExecuteTime": {
     "end_time": "2024-06-22T02:05:22.871956Z",
     "start_time": "2024-06-22T02:05:22.713838Z"
    },
    "colab": {
     "base_uri": "https://localhost:8080/"
    },
    "id": "a9e08482ade03bc0",
    "outputId": "afeba1e1-cf81-454b-ff34-c86ae1258fc2"
   },
   "id": "a9e08482ade03bc0",
   "execution_count": 36
  },
  {
   "cell_type": "code",
   "outputs": [
    {
     "output_type": "execute_result",
     "data": {
      "text/plain": [
       "array([[0, 0, 0, ..., 0, 0, 0],\n",
       "       [0, 0, 0, ..., 0, 0, 0],\n",
       "       [0, 0, 0, ..., 0, 0, 0],\n",
       "       ...,\n",
       "       [0, 0, 0, ..., 0, 0, 0],\n",
       "       [0, 0, 0, ..., 0, 0, 0],\n",
       "       [0, 0, 0, ..., 0, 0, 0]])"
      ]
     },
     "metadata": {},
     "execution_count": 37
    }
   ],
   "source": [
    "labels"
   ],
   "metadata": {
    "ExecuteTime": {
     "end_time": "2024-06-22T02:05:22.874137Z",
     "start_time": "2024-06-22T02:05:22.870634Z"
    },
    "colab": {
     "base_uri": "https://localhost:8080/"
    },
    "id": "ac1ae1af3909e3aa",
    "outputId": "1de794ad-5911-4892-e069-a3a158c9d95c"
   },
   "id": "ac1ae1af3909e3aa",
   "execution_count": 37
  },
  {
   "cell_type": "code",
   "outputs": [
    {
     "output_type": "execute_result",
     "data": {
      "text/plain": [
       "array([0, 0, 0, 0, 0, 0, 0, 0, 0, 0, 0, 0, 1, 0, 0, 0, 0, 0, 0, 0, 0, 0,\n",
       "       0, 0, 0, 0, 0, 0, 0, 0, 0, 0, 0, 0, 0, 0])"
      ]
     },
     "metadata": {},
     "execution_count": 38
    }
   ],
   "source": [
    "labels[30000]"
   ],
   "metadata": {
    "ExecuteTime": {
     "end_time": "2024-06-22T02:05:33.961133Z",
     "start_time": "2024-06-22T02:05:33.959938Z"
    },
    "colab": {
     "base_uri": "https://localhost:8080/"
    },
    "id": "5953c0e2a75e66bb",
    "outputId": "f027abe6-ce87-4dd4-ff2e-c8570ecd932f"
   },
   "id": "5953c0e2a75e66bb",
   "execution_count": 38
  },
  {
   "cell_type": "code",
   "outputs": [
    {
     "output_type": "execute_result",
     "data": {
      "text/plain": [
       "Text(0.5, 1.0, '[0 0 0 0 0 0 0 0 0 0 1 0 0 0 0 0 0 0 0 0 0 0 0 0 0 0 0 0 0 0 0 0 0 0 0 0]')"
      ]
     },
     "metadata": {},
     "execution_count": 39
    },
    {
     "output_type": "display_data",
     "data": {
      "text/plain": [
       "<Figure size 640x480 with 1 Axes>"
      ],
      "image/png": "[encoded data removed]"
     },
     "metadata": {}
    }
   ],
   "source": [
    "plt.imshow(data[0].reshape(28, 28), cmap='gray')\n",
    "plt.title(f'{labels[0]}')"
   ],
   "metadata": {
    "ExecuteTime": {
     "end_time": "2024-06-22T02:06:09.412481Z",
     "start_time": "2024-06-22T02:06:09.300695Z"
    },
    "colab": {
     "base_uri": "https://localhost:8080/",
     "height": 469
    },
    "id": "ba85c737aec94105",
    "outputId": "7eff15a4-ccd8-421e-a77e-14824ddddae9"
   },
   "id": "ba85c737aec94105",
   "execution_count": 39
  },
  {
   "cell_type": "code",
   "outputs": [
    {
     "output_type": "execute_result",
     "data": {
      "text/plain": [
       "array([ 6903,  7877,  6990,  7141,  6824,  6313,  6876,  7293,  6825,\n",
       "        6958, 13869,  8668, 23409, 10134, 11440,  1163,  5762,  7218,\n",
       "        1120,  8493,  5603, 11586, 12336, 19010, 57825, 19341,  5812,\n",
       "       11566, 48419, 22495, 29008,  4182, 10784,  6272, 10859,  6076])"
      ]
     },
     "metadata": {},
     "execution_count": 40
    }
   ],
   "source": [
    "classes_total = labels.sum(axis=0)\n",
    "classes_total"
   ],
   "metadata": {
    "ExecuteTime": {
     "end_time": "2024-06-22T02:06:27.038919Z",
     "start_time": "2024-06-22T02:06:27.010279Z"
    },
    "colab": {
     "base_uri": "https://localhost:8080/"
    },
    "id": "2143db91c6e6a8e7",
    "outputId": "f6ebbe07-db4b-4869-9138-c289317549cb"
   },
   "id": "2143db91c6e6a8e7",
   "execution_count": 40
  },
  {
   "cell_type": "code",
   "outputs": [
    {
     "output_type": "execute_result",
     "data": {
      "text/plain": [
       "57825"
      ]
     },
     "metadata": {},
     "execution_count": 41
    }
   ],
   "source": [
    "classes_total.max()"
   ],
   "metadata": {
    "ExecuteTime": {
     "end_time": "2024-06-22T02:06:39.032114Z",
     "start_time": "2024-06-22T02:06:39.022741Z"
    },
    "colab": {
     "base_uri": "https://localhost:8080/"
    },
    "id": "cea3ca279421652f",
    "outputId": "12d925b8-95a2-473e-da10-1191698684d6"
   },
   "id": "cea3ca279421652f",
   "execution_count": 41
  },
  {
   "cell_type": "code",
   "outputs": [],
   "source": [
    "classes_weights = {}\n",
    "for i in range(0, len(classes_total)):\n",
    "    classes_weights[i] = classes_total.max() / classes_total[i]\n"
   ],
   "metadata": {
    "ExecuteTime": {
     "end_time": "2024-06-22T02:07:26.704030Z",
     "start_time": "2024-06-22T02:07:26.683777Z"
    },
    "id": "89c6a1746ccc7fab"
   },
   "id": "89c6a1746ccc7fab",
   "execution_count": 42
  },
  {
   "cell_type": "code",
   "outputs": [
    {
     "output_type": "execute_result",
     "data": {
      "text/plain": [
       "{0: 8.376792698826597,\n",
       " 1: 7.340992763742541,\n",
       " 2: 8.272532188841202,\n",
       " 3: 8.097605377398123,\n",
       " 4: 8.473769050410317,\n",
       " 5: 9.15967052114684,\n",
       " 6: 8.409685863874346,\n",
       " 7: 7.928835870012341,\n",
       " 8: 8.472527472527473,\n",
       " 9: 8.310577752227651,\n",
       " 10: 4.169370538611291,\n",
       " 11: 6.671089063221043,\n",
       " 12: 2.4702037677816224,\n",
       " 13: 5.7060390763765545,\n",
       " 14: 5.0546328671328675,\n",
       " 15: 49.72055030094583,\n",
       " 16: 10.035577924331829,\n",
       " 17: 8.011221945137157,\n",
       " 18: 51.629464285714285,\n",
       " 19: 6.808548216178029,\n",
       " 20: 10.320364090665715,\n",
       " 21: 4.990937338166753,\n",
       " 22: 4.6875,\n",
       " 23: 3.0418200946870066,\n",
       " 24: 1.0,\n",
       " 25: 2.989762680316426,\n",
       " 26: 9.94924294562973,\n",
       " 27: 4.999567698426422,\n",
       " 28: 1.1942625828703608,\n",
       " 29: 2.5705712380529007,\n",
       " 30: 1.993415609487038,\n",
       " 31: 13.827116212338593,\n",
       " 32: 5.362110534124629,\n",
       " 33: 9.21954719387755,\n",
       " 34: 5.3250759738465785,\n",
       " 35: 9.51695194206715}"
      ]
     },
     "metadata": {},
     "execution_count": 43
    }
   ],
   "source": [
    "classes_weights"
   ],
   "metadata": {
    "ExecuteTime": {
     "end_time": "2024-06-22T02:07:31.149193Z",
     "start_time": "2024-06-22T02:07:31.142109Z"
    },
    "colab": {
     "base_uri": "https://localhost:8080/"
    },
    "id": "4c6cbba738c80989",
    "outputId": "75beeb70-ca19-4072-b2cb-2d7cd9c35996"
   },
   "id": "4c6cbba738c80989",
   "execution_count": 43
  },
  {
   "cell_type": "code",
   "outputs": [
    {
     "output_type": "execute_result",
     "data": {
      "text/plain": [
       "((353960, 28, 28, 1), (88490, 28, 28, 1))"
      ]
     },
     "metadata": {},
     "execution_count": 44
    }
   ],
   "source": [
    "X_train, X_test, y_train, y_test = train_test_split(data, labels, test_size=0.2, random_state=1, stratify=labels)\n",
    "X_train.shape, X_test.shape"
   ],
   "metadata": {
    "ExecuteTime": {
     "end_time": "2024-06-22T02:08:15.727831Z",
     "start_time": "2024-06-22T02:08:10.178709Z"
    },
    "colab": {
     "base_uri": "https://localhost:8080/"
    },
    "id": "85d331a1368b737b",
    "outputId": "e334ede2-c29b-4cf3-e5f1-1227e3ce39d5"
   },
   "id": "85d331a1368b737b",
   "execution_count": 44
  },
  {
   "cell_type": "code",
   "outputs": [
    {
     "output_type": "execute_result",
     "data": {
      "text/plain": [
       "((353960, 36), (88490, 36))"
      ]
     },
     "metadata": {},
     "execution_count": 45
    }
   ],
   "source": [
    "y_train.shape, y_test.shape"
   ],
   "metadata": {
    "ExecuteTime": {
     "end_time": "2024-06-22T02:08:30.017307Z",
     "start_time": "2024-06-22T02:08:29.997338Z"
    },
    "colab": {
     "base_uri": "https://localhost:8080/"
    },
    "id": "cdee3ac7b329e630",
    "outputId": "a6136f65-a3dc-481d-ddb8-6d16adecf2d4"
   },
   "id": "cdee3ac7b329e630",
   "execution_count": 45
  },
  {
   "cell_type": "code",
   "outputs": [],
   "source": [
    "from tensorflow.keras.preprocessing.image import ImageDataGenerator"
   ],
   "metadata": {
    "ExecuteTime": {
     "end_time": "2024-06-22T02:08:43.749551Z",
     "start_time": "2024-06-22T02:08:43.729444Z"
    },
    "id": "29af85d3749ca946"
   },
   "id": "29af85d3749ca946",
   "execution_count": 46
  },
  {
   "cell_type": "code",
   "outputs": [],
   "source": [
    "augmentation = ImageDataGenerator(rotation_range = 10, zoom_range = 0.05, width_shift_range = 0.1, height_shift_range = 0.1, horizontal_flip = False)"
   ],
   "metadata": {
    "ExecuteTime": {
     "end_time": "2024-06-22T02:09:32.059663Z",
     "start_time": "2024-06-22T02:09:32.052815Z"
    },
    "id": "3a14e1494d2decd3"
   },
   "id": "3a14e1494d2decd3",
   "execution_count": 47
  },
  {
   "cell_type": "markdown",
   "source": [
    "## Building Neural Network\n",
    "\n",
    "- [Padding: `same` vs `valid`](https://www.pico.net/kb/what-is-the-difference-between-same-and-valid-padding-in-tf-nn-max-pool-of-tensorflow)"
   ],
   "metadata": {
    "collapsed": false,
    "id": "fabe203414cc3ffd"
   },
   "id": "fabe203414cc3ffd"
  },
  {
   "cell_type": "code",
   "outputs": [],
   "source": [
    "from tensorflow.keras.models import Sequential\n",
    "from tensorflow.keras.layers import Conv2D, MaxPooling2D, Flatten, Dense\n",
    "from tensorflow.keras.callbacks import ModelCheckpoint"
   ],
   "metadata": {
    "ExecuteTime": {
     "end_time": "2024-06-22T02:10:30.569374Z",
     "start_time": "2024-06-22T02:10:30.546351Z"
    },
    "id": "651003815203abb9"
   },
   "id": "651003815203abb9",
   "execution_count": 48
  },
  {
   "cell_type": "code",
   "outputs": [],
   "source": [
    "network = Sequential()\n",
    "\n",
    "network.add(Conv2D(filters = 32, kernel_size = (3,3), activation = 'relu', input_shape=(28, 28, 1)))\n",
    "network.add(MaxPooling2D(pool_size=(2,2)))\n",
    "\n",
    "network.add(Conv2D(filters = 64, kernel_size = (3,3), activation = 'relu', padding='same'))\n",
    "network.add(MaxPooling2D(pool_size=(2,2)))\n",
    "\n",
    "network.add(Conv2D(filters = 128, kernel_size = (3,3), activation = 'relu', padding='valid'))\n",
    "network.add(MaxPooling2D(pool_size=(2, 2)))\n",
    "\n",
    "network.add(Flatten())\n",
    "\n",
    "network.add(Dense(64, activation = 'relu'))\n",
    "network.add(Dense(128, activation = 'relu'))\n",
    "\n",
    "network.add(Dense(36, activation = 'softmax'))\n",
    "\n",
    "network.compile(loss = 'categorical_crossentropy', optimizer = 'adam', metrics = ['accuracy'])"
   ],
   "metadata": {
    "ExecuteTime": {
     "end_time": "2024-06-22T02:25:58.017Z",
     "start_time": "2024-06-22T02:25:57.948163Z"
    },
    "id": "19c72a0012e7139"
   },
   "id": "19c72a0012e7139",
   "execution_count": 49
  },
  {
   "cell_type": "code",
   "outputs": [
    {
     "output_type": "stream",
     "name": "stdout",
     "text": [
      "Model: \"sequential\"\n",
      "_________________________________________________________________\n",
      " Layer (type)                Output Shape              Param #   \n",
      "=================================================================\n",
      " conv2d (Conv2D)             (None, 26, 26, 32)        320       \n",
      "                                                                 \n",
      " max_pooling2d (MaxPooling2  (None, 13, 13, 32)        0         \n",
      " D)                                                              \n",
      "                                                                 \n",
      " conv2d_1 (Conv2D)           (None, 13, 13, 64)        18496     \n",
      "                                                                 \n",
      " max_pooling2d_1 (MaxPoolin  (None, 6, 6, 64)          0         \n",
      " g2D)                                                            \n",
      "                                                                 \n",
      " conv2d_2 (Conv2D)           (None, 4, 4, 128)         73856     \n",
      "                                                                 \n",
      " max_pooling2d_2 (MaxPoolin  (None, 2, 2, 128)         0         \n",
      " g2D)                                                            \n",
      "                                                                 \n",
      " flatten (Flatten)           (None, 512)               0         \n",
      "                                                                 \n",
      " dense (Dense)               (None, 64)                32832     \n",
      "                                                                 \n",
      " dense_1 (Dense)             (None, 128)               8320      \n",
      "                                                                 \n",
      " dense_2 (Dense)             (None, 36)                4644      \n",
      "                                                                 \n",
      "=================================================================\n",
      "Total params: 138468 (540.89 KB)\n",
      "Trainable params: 138468 (540.89 KB)\n",
      "Non-trainable params: 0 (0.00 Byte)\n",
      "_________________________________________________________________\n"
     ]
    }
   ],
   "source": [
    "network.summary()"
   ],
   "metadata": {
    "ExecuteTime": {
     "end_time": "2024-06-22T02:26:03.985100Z",
     "start_time": "2024-06-22T02:26:03.965678Z"
    },
    "colab": {
     "base_uri": "https://localhost:8080/"
    },
    "id": "bf4864398ef4dca6",
    "outputId": "7fe2ca89-7977-4768-eb16-b2a7dc228826"
   },
   "id": "bf4864398ef4dca6",
   "execution_count": 50
  },
  {
   "cell_type": "code",
   "outputs": [
    {
     "output_type": "stream",
     "name": "stdout",
     "text": [
      "['0', '1', '2', '3', '4', '5', '6', '7', '8', '9', 'A', 'B', 'C', 'D', 'E', 'F', 'G', 'H', 'I', 'J', 'K', 'L', 'M', 'N', 'O', 'P', 'Q', 'R', 'S', 'T', 'U', 'V', 'W', 'X', 'Y', 'Z']\n"
     ]
    }
   ],
   "source": [
    "name_labels = '0123456789'\n",
    "name_labels += 'ABCDEFGHIJKLMNOPQRSTUVWXYZ'\n",
    "name_labels = [l for l in name_labels]\n",
    "print(name_labels)"
   ],
   "metadata": {
    "ExecuteTime": {
     "end_time": "2024-06-22T02:31:57.236924Z",
     "start_time": "2024-06-22T02:31:57.227277Z"
    },
    "colab": {
     "base_uri": "https://localhost:8080/"
    },
    "id": "590f4b97f8b4049a",
    "outputId": "ebf4e4db-7ca0-409b-da2b-78de6143e2f2"
   },
   "id": "590f4b97f8b4049a",
   "execution_count": 51
  },
  {
   "cell_type": "markdown",
   "source": [
    "## Training Neural Network"
   ],
   "metadata": {
    "collapsed": false,
    "id": "2a94713d51c01d2f"
   },
   "id": "2a94713d51c01d2f"
  },
  {
   "cell_type": "code",
   "outputs": [],
   "source": [
    "file_model = 'custom_ocr.keras'\n",
    "epochs = 20\n",
    "batch_size = 128"
   ],
   "metadata": {
    "ExecuteTime": {
     "end_time": "2024-06-22T02:33:01.881589Z",
     "start_time": "2024-06-22T02:33:01.874489Z"
    },
    "id": "edf1cb6898bda137"
   },
   "id": "edf1cb6898bda137",
   "execution_count": 52
  },
  {
   "cell_type": "code",
   "outputs": [],
   "source": [
    "checkpointer = ModelCheckpoint(file_model, monitor = 'val_loss', verbose = 1, save_best_only=True)"
   ],
   "metadata": {
    "ExecuteTime": {
     "end_time": "2024-06-22T02:33:02.402318Z",
     "start_time": "2024-06-22T02:33:02.388104Z"
    },
    "id": "ec0e20e0046e40d1"
   },
   "id": "ec0e20e0046e40d1",
   "execution_count": 53
  },
  {
   "cell_type": "code",
   "outputs": [
    {
     "output_type": "execute_result",
     "data": {
      "text/plain": [
       "2765"
      ]
     },
     "metadata": {},
     "execution_count": 54
    }
   ],
   "source": [
    "len(X_train) // batch_size"
   ],
   "metadata": {
    "ExecuteTime": {
     "end_time": "2024-06-22T02:33:19.413157Z",
     "start_time": "2024-06-22T02:33:19.391761Z"
    },
    "colab": {
     "base_uri": "https://localhost:8080/"
    },
    "id": "7bb41e58acaa959e",
    "outputId": "90fd621c-9807-43a9-a742-1c97a2d93a66"
   },
   "id": "7bb41e58acaa959e",
   "execution_count": 54
  },
  {
   "cell_type": "code",
   "outputs": [
    {
     "output_type": "stream",
     "name": "stdout",
     "text": [
      "Epoch 1/20\n",
      "2765/2765 [==============================] - ETA: 0s - loss: 2.2302 - accuracy: 0.8216\n",
      "Epoch 1: val_loss improved from inf to 0.33049, saving model to custom_ocr.keras\n",
      "2765/2765 [==============================] - 173s 60ms/step - loss: 2.2302 - accuracy: 0.8216 - val_loss: 0.3305 - val_accuracy: 0.8635\n",
      "Epoch 2/20\n",
      "2765/2765 [==============================] - ETA: 0s - loss: 0.9879 - accuracy: 0.9005\n",
      "Epoch 2: val_loss improved from 0.33049 to 0.23755, saving model to custom_ocr.keras\n",
      "2765/2765 [==============================] - 153s 55ms/step - loss: 0.9879 - accuracy: 0.9005 - val_loss: 0.2375 - val_accuracy: 0.8998\n",
      "Epoch 3/20\n",
      "2764/2765 [============================>.] - ETA: 0s - loss: 0.8142 - accuracy: 0.9129\n",
      "Epoch 3: val_loss improved from 0.23755 to 0.18900, saving model to custom_ocr.keras\n",
      "2765/2765 [==============================] - 155s 56ms/step - loss: 0.8142 - accuracy: 0.9129 - val_loss: 0.1890 - val_accuracy: 0.9340\n",
      "Epoch 4/20\n",
      "2765/2765 [==============================] - ETA: 0s - loss: 0.7158 - accuracy: 0.9219\n",
      "Epoch 4: val_loss did not improve from 0.18900\n",
      "2765/2765 [==============================] - 149s 54ms/step - loss: 0.7158 - accuracy: 0.9219 - val_loss: 0.2252 - val_accuracy: 0.9088\n",
      "Epoch 5/20\n",
      "2765/2765 [==============================] - ETA: 0s - loss: 0.6606 - accuracy: 0.9267\n",
      "Epoch 5: val_loss did not improve from 0.18900\n",
      "2765/2765 [==============================] - 154s 56ms/step - loss: 0.6606 - accuracy: 0.9267 - val_loss: 0.2566 - val_accuracy: 0.8838\n",
      "Epoch 6/20\n",
      "2764/2765 [============================>.] - ETA: 0s - loss: 0.6105 - accuracy: 0.9309\n",
      "Epoch 6: val_loss did not improve from 0.18900\n",
      "2765/2765 [==============================] - 149s 54ms/step - loss: 0.6103 - accuracy: 0.9309 - val_loss: 0.2383 - val_accuracy: 0.9018\n",
      "Epoch 7/20\n",
      "2764/2765 [============================>.] - ETA: 0s - loss: 0.5790 - accuracy: 0.9341\n",
      "Epoch 7: val_loss did not improve from 0.18900\n",
      "2765/2765 [==============================] - 152s 55ms/step - loss: 0.5788 - accuracy: 0.9341 - val_loss: 0.2190 - val_accuracy: 0.9126\n",
      "Epoch 8/20\n",
      "2765/2765 [==============================] - ETA: 0s - loss: 0.5541 - accuracy: 0.9349\n",
      "Epoch 8: val_loss did not improve from 0.18900\n",
      "2765/2765 [==============================] - 154s 56ms/step - loss: 0.5541 - accuracy: 0.9349 - val_loss: 0.2995 - val_accuracy: 0.8799\n",
      "Epoch 9/20\n",
      "2764/2765 [============================>.] - ETA: 0s - loss: 0.5263 - accuracy: 0.9368\n",
      "Epoch 9: val_loss did not improve from 0.18900\n",
      "2765/2765 [==============================] - 150s 54ms/step - loss: 0.5263 - accuracy: 0.9368 - val_loss: 0.2911 - val_accuracy: 0.8764\n",
      "Epoch 10/20\n",
      "2764/2765 [============================>.] - ETA: 0s - loss: 0.5112 - accuracy: 0.9386\n",
      "Epoch 10: val_loss did not improve from 0.18900\n",
      "2765/2765 [==============================] - 152s 55ms/step - loss: 0.5112 - accuracy: 0.9386 - val_loss: 0.2648 - val_accuracy: 0.8834\n",
      "Epoch 11/20\n",
      "2765/2765 [==============================] - ETA: 0s - loss: 0.5029 - accuracy: 0.9397\n",
      "Epoch 11: val_loss did not improve from 0.18900\n",
      "2765/2765 [==============================] - 153s 55ms/step - loss: 0.5029 - accuracy: 0.9397 - val_loss: 0.2546 - val_accuracy: 0.8910\n",
      "Epoch 12/20\n",
      "2765/2765 [==============================] - ETA: 0s - loss: 0.4795 - accuracy: 0.9418\n",
      "Epoch 12: val_loss did not improve from 0.18900\n",
      "2765/2765 [==============================] - 152s 55ms/step - loss: 0.4795 - accuracy: 0.9418 - val_loss: 0.2008 - val_accuracy: 0.9213\n",
      "Epoch 13/20\n",
      "2765/2765 [==============================] - ETA: 0s - loss: 0.4717 - accuracy: 0.9419\n",
      "Epoch 13: val_loss did not improve from 0.18900\n",
      "2765/2765 [==============================] - 156s 56ms/step - loss: 0.4717 - accuracy: 0.9419 - val_loss: 0.2562 - val_accuracy: 0.8847\n",
      "Epoch 14/20\n",
      "2765/2765 [==============================] - ETA: 0s - loss: 0.4691 - accuracy: 0.9424\n",
      "Epoch 14: val_loss did not improve from 0.18900\n",
      "2765/2765 [==============================] - 149s 54ms/step - loss: 0.4691 - accuracy: 0.9424 - val_loss: 0.2439 - val_accuracy: 0.8823\n",
      "Epoch 15/20\n",
      "2765/2765 [==============================] - ETA: 0s - loss: 0.4611 - accuracy: 0.9428\n",
      "Epoch 15: val_loss improved from 0.18900 to 0.18689, saving model to custom_ocr.keras\n",
      "2765/2765 [==============================] - 152s 55ms/step - loss: 0.4611 - accuracy: 0.9428 - val_loss: 0.1869 - val_accuracy: 0.9272\n",
      "Epoch 16/20\n",
      "2765/2765 [==============================] - ETA: 0s - loss: 0.4512 - accuracy: 0.9449\n",
      "Epoch 16: val_loss improved from 0.18689 to 0.18149, saving model to custom_ocr.keras\n",
      "2765/2765 [==============================] - 151s 54ms/step - loss: 0.4512 - accuracy: 0.9449 - val_loss: 0.1815 - val_accuracy: 0.9349\n",
      "Epoch 17/20\n",
      "2764/2765 [============================>.] - ETA: 0s - loss: 0.4419 - accuracy: 0.9462\n",
      "Epoch 17: val_loss improved from 0.18149 to 0.17956, saving model to custom_ocr.keras\n",
      "2765/2765 [==============================] - 151s 55ms/step - loss: 0.4419 - accuracy: 0.9462 - val_loss: 0.1796 - val_accuracy: 0.9312\n",
      "Epoch 18/20\n",
      "2764/2765 [============================>.] - ETA: 0s - loss: 0.4247 - accuracy: 0.9472\n",
      "Epoch 18: val_loss improved from 0.17956 to 0.15347, saving model to custom_ocr.keras\n",
      "2765/2765 [==============================] - 151s 55ms/step - loss: 0.4247 - accuracy: 0.9472 - val_loss: 0.1535 - val_accuracy: 0.9503\n",
      "Epoch 19/20\n",
      "2765/2765 [==============================] - ETA: 0s - loss: 0.4209 - accuracy: 0.9480\n",
      "Epoch 19: val_loss did not improve from 0.15347\n",
      "2765/2765 [==============================] - 155s 56ms/step - loss: 0.4209 - accuracy: 0.9480 - val_loss: 0.1620 - val_accuracy: 0.9439\n",
      "Epoch 20/20\n",
      "2765/2765 [==============================] - ETA: 0s - loss: 0.4192 - accuracy: 0.9484\n",
      "Epoch 20: val_loss did not improve from 0.15347\n",
      "2765/2765 [==============================] - 152s 55ms/step - loss: 0.4192 - accuracy: 0.9484 - val_loss: 0.1592 - val_accuracy: 0.9431\n"
     ]
    }
   ],
   "source": [
    "history = network.fit(\n",
    "    augmentation.flow(X_train, y_train, batch_size = batch_size),\n",
    "    validation_data = (X_test, y_test),\n",
    "    steps_per_epoch = len(X_train) // batch_size,\n",
    "    epochs = epochs,\n",
    "    class_weight = classes_weights,\n",
    "    verbose = 1,\n",
    "    callbacks = [checkpointer]\n",
    ")"
   ],
   "metadata": {
    "colab": {
     "base_uri": "https://localhost:8080/"
    },
    "id": "ec46d0d2ea6f4bac",
    "outputId": "051df350-c506-4caa-a9c0-dcede897b0fb"
   },
   "id": "ec46d0d2ea6f4bac",
   "execution_count": 55
  },
  {
   "cell_type": "markdown",
   "source": [
    "## Evaluating the neural network"
   ],
   "metadata": {
    "collapsed": false,
    "id": "37882edc2aaeb059"
   },
   "id": "37882edc2aaeb059"
  },
  {
   "cell_type": "code",
   "outputs": [
    {
     "output_type": "execute_result",
     "data": {
      "text/plain": [
       "(88490, 28, 28, 1)"
      ]
     },
     "metadata": {},
     "execution_count": 56
    }
   ],
   "source": [
    "X_test.shape"
   ],
   "metadata": {
    "id": "b3a5afd9966b4bbe",
    "colab": {
     "base_uri": "https://localhost:8080/"
    },
    "outputId": "c50525db-2a37-4d0e-cbe5-998920a9d62d"
   },
   "id": "b3a5afd9966b4bbe",
   "execution_count": 56
  },
  {
   "cell_type": "code",
   "source": [
    "predictions = network.predict(X_test, batch_size=batch_size)\n",
    "predictions"
   ],
   "metadata": {
    "colab": {
     "base_uri": "https://localhost:8080/"
    },
    "id": "rSODPuMTQuG8",
    "outputId": "e3f23040-bb6a-4998-abe6-16b8abcaea08"
   },
   "id": "rSODPuMTQuG8",
   "execution_count": 57,
   "outputs": [
    {
     "output_type": "stream",
     "name": "stdout",
     "text": [
      "692/692 [==============================] - 2s 3ms/step\n"
     ]
    },
    {
     "output_type": "execute_result",
     "data": {
      "text/plain": [
       "array([[2.8818351e-01, 1.1479199e-10, 5.0578131e-10, ..., 2.3567968e-19,\n",
       "        5.7821588e-09, 7.0503038e-13],\n",
       "       [1.5419406e-20, 9.8619669e-13, 2.8431784e-13, ..., 8.6149284e-13,\n",
       "        1.0434641e-13, 2.5992450e-11],\n",
       "       [5.9857780e-10, 1.4439673e-11, 2.9549244e-13, ..., 1.3935830e-10,\n",
       "        2.5283707e-11, 1.8617625e-15],\n",
       "       ...,\n",
       "       [2.8976917e-01, 2.0888470e-07, 5.6327805e-09, ..., 6.3690703e-13,\n",
       "        4.1741213e-08, 3.6262318e-10],\n",
       "       [3.3765835e-25, 8.4306298e-13, 1.4026763e-09, ..., 9.9997342e-01,\n",
       "        6.9119396e-06, 6.4100036e-09],\n",
       "       [1.2108398e-09, 2.1855048e-12, 1.1969542e-13, ..., 2.4257622e-17,\n",
       "        2.0521798e-08, 6.4689282e-11]], dtype=float32)"
      ]
     },
     "metadata": {},
     "execution_count": 57
    }
   ]
  },
  {
   "cell_type": "code",
   "source": [
    "predictions[0], len(predictions)"
   ],
   "metadata": {
    "colab": {
     "base_uri": "https://localhost:8080/"
    },
    "id": "3cP4EDagQzxx",
    "outputId": "6f465272-bd57-4ecb-fb90-fc5644da1df2"
   },
   "id": "3cP4EDagQzxx",
   "execution_count": 58,
   "outputs": [
    {
     "output_type": "execute_result",
     "data": {
      "text/plain": [
       "(array([2.8818351e-01, 1.1479199e-10, 5.0578131e-10, 3.1307051e-11,\n",
       "        2.1325950e-11, 2.6238502e-07, 4.8596536e-07, 5.4860349e-11,\n",
       "        2.6308404e-09, 7.7674294e-09, 3.5605267e-12, 3.7085730e-09,\n",
       "        1.2937109e-06, 8.5799466e-04, 3.2810856e-09, 3.1353808e-17,\n",
       "        1.9318978e-07, 1.9432871e-15, 1.0212862e-15, 5.5663304e-07,\n",
       "        3.6588492e-13, 5.2419979e-10, 5.6887885e-14, 2.7875470e-07,\n",
       "        7.1074861e-01, 6.6545959e-07, 1.4859298e-04, 1.7511382e-16,\n",
       "        7.7623390e-08, 9.6777120e-10, 5.7347501e-05, 4.5173839e-14,\n",
       "        6.1398268e-11, 2.3567968e-19, 5.7821588e-09, 7.0503038e-13],\n",
       "       dtype=float32),\n",
       " 88490)"
      ]
     },
     "metadata": {},
     "execution_count": 58
    }
   ]
  },
  {
   "cell_type": "code",
   "source": [
    "np.argmax(predictions[0]), name_labels[np.argmax(predictions[0])]"
   ],
   "metadata": {
    "colab": {
     "base_uri": "https://localhost:8080/"
    },
    "id": "CmOZb569Q1pL",
    "outputId": "a8a29fad-e795-4eb2-c96d-c25f7b6088d8"
   },
   "id": "CmOZb569Q1pL",
   "execution_count": 64,
   "outputs": [
    {
     "output_type": "execute_result",
     "data": {
      "text/plain": [
       "(24, 'O')"
      ]
     },
     "metadata": {},
     "execution_count": 64
    }
   ]
  },
  {
   "cell_type": "code",
   "source": [
    "y_test[0]"
   ],
   "metadata": {
    "id": "_JRkT9TcRIqz",
    "colab": {
     "base_uri": "https://localhost:8080/"
    },
    "outputId": "7d302a99-862d-4e27-a3a0-2df25045b355"
   },
   "id": "_JRkT9TcRIqz",
   "execution_count": 65,
   "outputs": [
    {
     "output_type": "execute_result",
     "data": {
      "text/plain": [
       "array([0, 0, 0, 0, 0, 0, 0, 0, 0, 0, 0, 0, 0, 0, 0, 0, 0, 0, 0, 0, 0, 0,\n",
       "       0, 0, 1, 0, 0, 0, 0, 0, 0, 0, 0, 0, 0, 0])"
      ]
     },
     "metadata": {},
     "execution_count": 65
    }
   ]
  },
  {
   "cell_type": "code",
   "source": [
    "np.argmax(y_test[0]), name_labels[np.argmax(y_test[0])]"
   ],
   "metadata": {
    "id": "LXNgDMKMRLLF",
    "colab": {
     "base_uri": "https://localhost:8080/"
    },
    "outputId": "ea483373-2506-4f36-d616-606a60a71a2d"
   },
   "id": "LXNgDMKMRLLF",
   "execution_count": 66,
   "outputs": [
    {
     "output_type": "execute_result",
     "data": {
      "text/plain": [
       "(24, 'O')"
      ]
     },
     "metadata": {},
     "execution_count": 66
    }
   ]
  },
  {
   "cell_type": "code",
   "source": [
    "network.evaluate(X_test, y_test)"
   ],
   "metadata": {
    "id": "ZeWvEHmXRNiZ",
    "colab": {
     "base_uri": "https://localhost:8080/"
    },
    "outputId": "6def4f79-ce5c-4670-a3d4-35365482033e"
   },
   "id": "ZeWvEHmXRNiZ",
   "execution_count": 67,
   "outputs": [
    {
     "output_type": "stream",
     "name": "stdout",
     "text": [
      "2766/2766 [==============================] - 14s 5ms/step - loss: 0.1592 - accuracy: 0.9431\n"
     ]
    },
    {
     "output_type": "execute_result",
     "data": {
      "text/plain": [
       "[0.15923386812210083, 0.9431121945381165]"
      ]
     },
     "metadata": {},
     "execution_count": 67
    }
   ]
  },
  {
   "cell_type": "code",
   "source": [
    "print(classification_report(np.argmax(y_test, axis=1), np.argmax(predictions, axis=1), target_names=name_labels))"
   ],
   "metadata": {
    "id": "HM3azaVzRQi7",
    "colab": {
     "base_uri": "https://localhost:8080/"
    },
    "outputId": "a3250777-613e-4008-e53e-c476441e3cbc"
   },
   "id": "HM3azaVzRQi7",
   "execution_count": 68,
   "outputs": [
    {
     "output_type": "stream",
     "name": "stdout",
     "text": [
      "              precision    recall  f1-score   support\n",
      "\n",
      "           0       0.35      0.67      0.46      1381\n",
      "           1       0.98      0.99      0.98      1575\n",
      "           2       0.94      0.96      0.95      1398\n",
      "           3       0.96      0.99      0.98      1428\n",
      "           4       0.93      0.96      0.94      1365\n",
      "           5       0.52      0.97      0.68      1263\n",
      "           6       0.94      0.98      0.96      1375\n",
      "           7       0.94      0.99      0.96      1459\n",
      "           8       0.96      0.98      0.97      1365\n",
      "           9       0.97      0.96      0.97      1392\n",
      "           A       0.99      0.99      0.99      2774\n",
      "           B       0.99      0.97      0.98      1734\n",
      "           C       1.00      0.96      0.98      4682\n",
      "           D       0.84      0.98      0.90      2027\n",
      "           E       1.00      0.97      0.98      2288\n",
      "           F       0.97      0.99      0.98       233\n",
      "           G       0.97      0.95      0.96      1152\n",
      "           H       0.98      0.98      0.98      1444\n",
      "           I       0.96      0.98      0.97       224\n",
      "           J       0.98      0.98      0.98      1698\n",
      "           K       0.96      0.99      0.97      1121\n",
      "           L       0.93      0.99      0.96      2317\n",
      "           M       0.98      1.00      0.99      2467\n",
      "           N       0.99      0.99      0.99      3802\n",
      "           O       0.96      0.83      0.89     11565\n",
      "           P       1.00      0.99      0.99      3868\n",
      "           Q       0.99      0.98      0.98      1162\n",
      "           R       0.99      0.98      0.99      2313\n",
      "           S       0.99      0.88      0.93      9684\n",
      "           T       1.00      0.98      0.99      4499\n",
      "           U       0.99      0.98      0.99      5801\n",
      "           V       0.96      1.00      0.98       836\n",
      "           W       0.98      0.99      0.99      2157\n",
      "           X       0.98      0.99      0.99      1254\n",
      "           Y       0.98      0.94      0.96      2172\n",
      "           Z       0.93      0.96      0.94      1215\n",
      "\n",
      "    accuracy                           0.94     88490\n",
      "   macro avg       0.94      0.96      0.95     88490\n",
      "weighted avg       0.96      0.94      0.95     88490\n"
     ]
    }
   ]
  },
  {
   "cell_type": "code",
   "source": [
    "history.history.keys()"
   ],
   "metadata": {
    "id": "7ETN-2Z2RUti",
    "colab": {
     "base_uri": "https://localhost:8080/"
    },
    "outputId": "a5a17539-3f65-4175-eb7b-9f5062672213"
   },
   "id": "7ETN-2Z2RUti",
   "execution_count": 69,
   "outputs": [
    {
     "output_type": "execute_result",
     "data": {
      "text/plain": [
       "dict_keys(['loss', 'accuracy', 'val_loss', 'val_accuracy'])"
      ]
     },
     "metadata": {},
     "execution_count": 69
    }
   ]
  },
  {
   "cell_type": "code",
   "source": [
    "plt.plot(history.history['val_loss'])"
   ],
   "metadata": {
    "id": "IAZCTkfkRWW5",
    "colab": {
     "base_uri": "https://localhost:8080/",
     "height": 447
    },
    "outputId": "0cc8c9a7-c4bf-47d0-b25f-4fbec570d4d6"
   },
   "id": "IAZCTkfkRWW5",
   "execution_count": 70,
   "outputs": [
    {
     "output_type": "execute_result",
     "data": {
      "text/plain": [
       "[<matplotlib.lines.Line2D at 0x7f1d44972530>]"
      ]
     },
     "metadata": {},
     "execution_count": 70
    },
    {
     "output_type": "display_data",
     "data": {
      "text/plain": [
       "<Figure size 640x480 with 1 Axes>"
      ],
      "image/png": "[encoded data removed]"
     },
     "metadata": {}
    }
   ]
  },
  {
   "cell_type": "code",
   "source": [
    "plt.plot(history.history['val_accuracy'])"
   ],
   "metadata": {
    "id": "H6yf6PRbRZ5v",
    "colab": {
     "base_uri": "https://localhost:8080/",
     "height": 447
    },
    "outputId": "9f63e85e-c313-486f-e224-d3dc8db72c42"
   },
   "id": "H6yf6PRbRZ5v",
   "execution_count": 71,
   "outputs": [
    {
     "output_type": "execute_result",
     "data": {
      "text/plain": [
       "[<matplotlib.lines.Line2D at 0x7f1d45dfd450>]"
      ]
     },
     "metadata": {},
     "execution_count": 71
    },
    {
     "output_type": "display_data",
     "data": {
      "text/plain": [
       "<Figure size 640x480 with 1 Axes>"
      ],
      "image/png": "[encoded data removed]"
     },
     "metadata": {}
    }
   ]
  },
  {
   "cell_type": "markdown",
   "source": [
    "## Saving the neural network"
   ],
   "metadata": {
    "id": "5rEl-YAwReUq"
   },
   "id": "5rEl-YAwReUq"
  },
  {
   "cell_type": "code",
   "source": [
    "network.save('network', save_format='h5')"
   ],
   "metadata": {
    "id": "KdLmLoq5R37t",
    "colab": {
     "base_uri": "https://localhost:8080/"
    },
    "outputId": "e331d1df-ef69-4884-82cf-e0cd8323e7f6"
   },
   "id": "KdLmLoq5R37t",
   "execution_count": 72,
   "outputs": [
    {
     "output_type": "stream",
     "name": "stderr",
     "text": [
      "/usr/local/lib/python3.10/dist-packages/keras/src/engine/training.py:3103: UserWarning: You are saving your model as an HDF5 file via `model.save()`. This file format is considered legacy. We recommend using instead the native Keras format, e.g. `model.save('my_model.keras')`.\n",
      "  saving_api.save_model(\n"
     ]
    }
   ]
  },
  {
   "cell_type": "code",
   "source": [
    "from google.colab import drive\n",
    "drive.mount('/content/drive')"
   ],
   "metadata": {
    "id": "54DihfaLR-7j",
    "colab": {
     "base_uri": "https://localhost:8080/"
    },
    "outputId": "2cb49433-99de-40d4-8dfe-fd01d7ef48b3"
   },
   "id": "54DihfaLR-7j",
   "execution_count": 73,
   "outputs": [
    {
     "output_type": "stream",
     "name": "stdout",
     "text": [
      "Mounted at /content/drive\n"
     ]
    }
   ]
  },
  {
   "cell_type": "code",
   "source": [
    "!cp network /content/drive/MyDrive/Models/"
   ],
   "metadata": {
    "id": "H5ln-ySPSBCN"
   },
   "id": "H5ln-ySPSBCN",
   "execution_count": 74,
   "outputs": []
  },
  {
   "cell_type": "markdown",
   "source": [
    "## Testing neural networks"
   ],
   "metadata": {
    "id": "ufv6PLb0SK-f"
   },
   "id": "ufv6PLb0SK-f"
  },
  {
   "cell_type": "code",
   "source": [
    "from tensorflow.keras.models import load_model\n",
    "loaded_network = load_model('/content/drive/MyDrive/Models/network')"
   ],
   "metadata": {
    "id": "BYN8l1H_SOO0"
   },
   "id": "BYN8l1H_SOO0",
   "execution_count": 76,
   "outputs": []
  },
  {
   "cell_type": "code",
   "source": [
    "loaded_network"
   ],
   "metadata": {
    "id": "kcYcvUWaY6t3",
    "colab": {
     "base_uri": "https://localhost:8080/"
    },
    "outputId": "60875a94-d34e-4862-a842-3d9c8a8f339b"
   },
   "id": "kcYcvUWaY6t3",
   "execution_count": 77,
   "outputs": [
    {
     "output_type": "execute_result",
     "data": {
      "text/plain": [
       "<keras.src.engine.sequential.Sequential at 0x7f1d47e74f10>"
      ]
     },
     "metadata": {},
     "execution_count": 77
    }
   ]
  },
  {
   "cell_type": "code",
   "source": [
    "loaded_network.summary()"
   ],
   "metadata": {
    "id": "D34A_FQ4Y7y6",
    "colab": {
     "base_uri": "https://localhost:8080/"
    },
    "outputId": "872dceb1-c5c7-4e99-afa4-e33c71a59190"
   },
   "id": "D34A_FQ4Y7y6",
   "execution_count": 78,
   "outputs": [
    {
     "output_type": "stream",
     "name": "stdout",
     "text": [
      "Model: \"sequential\"\n",
      "_________________________________________________________________\n",
      " Layer (type)                Output Shape              Param #   \n",
      "=================================================================\n",
      " conv2d (Conv2D)             (None, 26, 26, 32)        320       \n",
      "                                                                 \n",
      " max_pooling2d (MaxPooling2  (None, 13, 13, 32)        0         \n",
      " D)                                                              \n",
      "                                                                 \n",
      " conv2d_1 (Conv2D)           (None, 13, 13, 64)        18496     \n",
      "                                                                 \n",
      " max_pooling2d_1 (MaxPoolin  (None, 6, 6, 64)          0         \n",
      " g2D)                                                            \n",
      "                                                                 \n",
      " conv2d_2 (Conv2D)           (None, 4, 4, 128)         73856     \n",
      "                                                                 \n",
      " max_pooling2d_2 (MaxPoolin  (None, 2, 2, 128)         0         \n",
      " g2D)                                                            \n",
      "                                                                 \n",
      " flatten (Flatten)           (None, 512)               0         \n",
      "                                                                 \n",
      " dense (Dense)               (None, 64)                32832     \n",
      "                                                                 \n",
      " dense_1 (Dense)             (None, 128)               8320      \n",
      "                                                                 \n",
      " dense_2 (Dense)             (None, 36)                4644      \n",
      "                                                                 \n",
      "=================================================================\n",
      "Total params: 138468 (540.89 KB)\n",
      "Trainable params: 138468 (540.89 KB)\n",
      "Non-trainable params: 0 (0.00 Byte)\n",
      "_________________________________________________________________\n"
     ]
    }
   ]
  },
  {
   "cell_type": "code",
   "source": [
    "import cv2\n",
    "\n",
    "img = cv2.imread(\"Sources/Images/letter-m.jpg\")\n",
    "gray = cv2.cvtColor(img, cv2.COLOR_BGR2GRAY)\n",
    "plt.imshow(gray, cmap='gray')\n",
    "plt.show()"
   ],
   "metadata": {
    "id": "rMDsIZOMY97l",
    "colab": {
     "base_uri": "https://localhost:8080/",
     "height": 430
    },
    "outputId": "d938d00a-448b-47b4-9300-66dd03cc6736"
   },
   "id": "rMDsIZOMY97l",
   "execution_count": 81,
   "outputs": [
    {
     "output_type": "display_data",
     "data": {
      "text/plain": [
       "<Figure size 640x480 with 1 Axes>"
      ],
      "image/png": "[encoded data removed]"
     },
     "metadata": {}
    }
   ]
  },
  {
   "cell_type": "code",
   "source": [
    "value, thresh = cv2.threshold(gray, 0, 255, cv2.THRESH_BINARY_INV | cv2.THRESH_OTSU)\n",
    "plt.imshow(thresh, cmap='gray')"
   ],
   "metadata": {
    "id": "ybY5j2w5ZJ-s",
    "colab": {
     "base_uri": "https://localhost:8080/",
     "height": 447
    },
    "outputId": "c1f4243d-ca93-4b91-ede0-edf8427da942"
   },
   "id": "ybY5j2w5ZJ-s",
   "execution_count": 82,
   "outputs": [
    {
     "output_type": "execute_result",
     "data": {
      "text/plain": [
       "<matplotlib.image.AxesImage at 0x7f1b201c8580>"
      ]
     },
     "metadata": {},
     "execution_count": 82
    },
    {
     "output_type": "display_data",
     "data": {
      "text/plain": [
       "<Figure size 640x480 with 1 Axes>"
      ],
      "image/png": "[encoded data removed]"
     },
     "metadata": {}
    }
   ]
  },
  {
   "cell_type": "code",
   "source": [
    "value"
   ],
   "metadata": {
    "id": "pAhTrUDoZXi8",
    "colab": {
     "base_uri": "https://localhost:8080/"
    },
    "outputId": "e1a04cec-f992-4a6c-d87f-3b567cf92513"
   },
   "id": "pAhTrUDoZXi8",
   "execution_count": 83,
   "outputs": [
    {
     "output_type": "execute_result",
     "data": {
      "text/plain": [
       "137.0"
      ]
     },
     "metadata": {},
     "execution_count": 83
    }
   ]
  },
  {
   "cell_type": "code",
   "source": [
    "img = cv2.resize(thresh, (28, 28))\n",
    "plt.imshow(img, cmap='gray')\n",
    "plt.show()"
   ],
   "metadata": {
    "id": "hNuGkPvMZYau",
    "colab": {
     "base_uri": "https://localhost:8080/",
     "height": 430
    },
    "outputId": "d3b9afae-9849-4a11-e634-8c83d81adb6d"
   },
   "id": "hNuGkPvMZYau",
   "execution_count": 84,
   "outputs": [
    {
     "output_type": "display_data",
     "data": {
      "text/plain": [
       "<Figure size 640x480 with 1 Axes>"
      ],
      "image/png": "[encoded data removed]"
     },
     "metadata": {}
    }
   ]
  },
  {
   "cell_type": "code",
   "source": [
    "img.shape"
   ],
   "metadata": {
    "id": "dKVA3h3TZlqD",
    "colab": {
     "base_uri": "https://localhost:8080/"
    },
    "outputId": "cc88e139-71bb-4246-9940-8f6f38d0b4b1"
   },
   "id": "dKVA3h3TZlqD",
   "execution_count": 85,
   "outputs": [
    {
     "output_type": "execute_result",
     "data": {
      "text/plain": [
       "(28, 28)"
      ]
     },
     "metadata": {},
     "execution_count": 85
    }
   ]
  },
  {
   "cell_type": "code",
   "source": [
    "img = img.astype('float32') / 255.0\n",
    "img = np.expand_dims(img, axis=-1)\n",
    "img.shape\n"
   ],
   "metadata": {
    "id": "GjtnLi0NZmpf",
    "colab": {
     "base_uri": "https://localhost:8080/"
    },
    "outputId": "d830d34f-e9d3-434b-902c-a5a6239ea0ad"
   },
   "id": "GjtnLi0NZmpf",
   "execution_count": 86,
   "outputs": [
    {
     "output_type": "execute_result",
     "data": {
      "text/plain": [
       "(28, 28, 1)"
      ]
     },
     "metadata": {},
     "execution_count": 86
    }
   ]
  },
  {
   "cell_type": "code",
   "source": [
    "img = np.reshape(img, (1, 28, 28, 1))\n",
    "img.shape"
   ],
   "metadata": {
    "id": "gbjC3N59ZqoE",
    "colab": {
     "base_uri": "https://localhost:8080/"
    },
    "outputId": "1b6e0c5b-bdc0-4c78-859f-08cac64e52b7"
   },
   "id": "gbjC3N59ZqoE",
   "execution_count": 87,
   "outputs": [
    {
     "output_type": "execute_result",
     "data": {
      "text/plain": [
       "(1, 28, 28, 1)"
      ]
     },
     "metadata": {},
     "execution_count": 87
    }
   ]
  },
  {
   "cell_type": "code",
   "source": [
    "prediction = loaded_network.predict(img)\n",
    "prediction"
   ],
   "metadata": {
    "id": "y4o9F9IOZv5Y",
    "colab": {
     "base_uri": "https://localhost:8080/"
    },
    "outputId": "db4d5476-6a9d-45a8-9aa6-610a5667ad1e"
   },
   "id": "y4o9F9IOZv5Y",
   "execution_count": 89,
   "outputs": [
    {
     "output_type": "stream",
     "name": "stdout",
     "text": [
      "1/1 [==============================] - 2s 2s/step\n"
     ]
    },
    {
     "output_type": "execute_result",
     "data": {
      "text/plain": [
       "array([[3.10757142e-10, 1.41061199e-14, 2.09524039e-15, 1.32141688e-14,\n",
       "        1.04227099e-10, 4.57627991e-10, 4.84460432e-12, 7.78447440e-09,\n",
       "        1.32671096e-13, 8.46299810e-13, 3.94135668e-06, 1.01302064e-10,\n",
       "        1.54493127e-10, 8.11928587e-08, 1.26768418e-09, 1.26065540e-13,\n",
       "        7.78044740e-10, 2.04461739e-05, 2.46122118e-27, 2.38816085e-12,\n",
       "        3.78359942e-07, 1.68263168e-12, 9.99887824e-01, 7.77196110e-05,\n",
       "        3.13247916e-08, 3.87982875e-12, 1.99764198e-11, 3.12777672e-07,\n",
       "        3.34526473e-09, 6.31289965e-10, 2.75792944e-09, 1.23248244e-19,\n",
       "        9.16022418e-06, 1.24930587e-11, 6.71859183e-12, 4.22224748e-14]],\n",
       "      dtype=float32)"
      ]
     },
     "metadata": {},
     "execution_count": 89
    }
   ]
  },
  {
   "cell_type": "code",
   "source": [
    "np.argmax(prediction), name_labels[np.argmax(prediction)]"
   ],
   "metadata": {
    "id": "U6suh0mkZ09r",
    "colab": {
     "base_uri": "https://localhost:8080/"
    },
    "outputId": "40a6a784-2629-47a2-a040-c21baf751210"
   },
   "id": "U6suh0mkZ09r",
   "execution_count": 90,
   "outputs": [
    {
     "output_type": "execute_result",
     "data": {
      "text/plain": [
       "(22, 'M')"
      ]
     },
     "metadata": {},
     "execution_count": 90
    }
   ]
  },
  {
   "cell_type": "code",
   "source": [],
   "metadata": {
    "id": "9745i1UmZ9c5"
   },
   "id": "9745i1UmZ9c5",
   "execution_count": null,
   "outputs": []
  }
 ],
 "metadata": {
  "kernelspec": {
   "display_name": "Python 3",
   "name": "python3"
  },
  "language_info": {
   "codemirror_mode": {
    "name": "ipython",
    "version": 2
   },
   "file_extension": ".py",
   "mimetype": "text/x-python",
   "name": "python",
   "nbconvert_exporter": "python",
   "pygments_lexer": "ipython2",
   "version": "2.7.6"
  },
  "colab": {
   "provenance": [],
   "gpuType": "T4"
  },
  "accelerator": "GPU"
 },
 "nbformat": 4,
 "nbformat_minor": 5
}
